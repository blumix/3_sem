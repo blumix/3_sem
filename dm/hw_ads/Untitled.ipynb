{
 "cells": [
  {
   "cell_type": "code",
   "execution_count": 1,
   "metadata": {},
   "outputs": [],
   "source": [
    "import tqdm\n",
    "import pandas as pd"
   ]
  },
  {
   "cell_type": "code",
   "execution_count": 2,
   "metadata": {},
   "outputs": [],
   "source": [
    "header = open (\"train.csv\").readline ()"
   ]
  },
  {
   "cell_type": "code",
   "execution_count": 3,
   "metadata": {},
   "outputs": [
    {
     "data": {
      "text/plain": [
       "'timestamp;label;C1;C2;C3;C4;C5;C6;C7;C8;C9;C10;CG1;CG2;CG3;l1;l2;C11;C12\\n'"
      ]
     },
     "execution_count": 3,
     "metadata": {},
     "output_type": "execute_result"
    }
   ],
   "source": [
    "header"
   ]
  },
  {
   "cell_type": "code",
   "execution_count": 4,
   "metadata": {},
   "outputs": [],
   "source": [
    "column = header.strip ().split (\";\")"
   ]
  },
  {
   "cell_type": "code",
   "execution_count": 7,
   "metadata": {},
   "outputs": [],
   "source": [
    "train_data = pd.read_csv (\"train.csv\", sep=';', names=column, skiprows=1)"
   ]
  },
  {
   "cell_type": "code",
   "execution_count": 9,
   "metadata": {},
   "outputs": [
    {
     "name": "stderr",
     "output_type": "stream",
     "text": [
      "100%|██████████| 29989752/29989752 [01:26<00:00, 347575.46it/s]\n"
     ]
    }
   ],
   "source": [
    "cg1 = set ()\n",
    "\n",
    "for g in tqdm.tqdm (train_data.CG1.values):\n",
    "    if g == g:\n",
    "        cg1.update (g.split (','))"
   ]
  },
  {
   "cell_type": "code",
   "execution_count": 10,
   "metadata": {},
   "outputs": [
    {
     "name": "stderr",
     "output_type": "stream",
     "text": [
      "100%|██████████| 29989752/29989752 [00:12<00:00, 2314571.31it/s]\n"
     ]
    }
   ],
   "source": [
    "cg2 = set ()\n",
    "\n",
    "for g in tqdm.tqdm (train_data.CG2.values):\n",
    "    if g == g:\n",
    "        cg2.update (g.split (','))"
   ]
  },
  {
   "cell_type": "code",
   "execution_count": 11,
   "metadata": {},
   "outputs": [
    {
     "name": "stderr",
     "output_type": "stream",
     "text": [
      "100%|██████████| 29989752/29989752 [00:10<00:00, 2734868.40it/s]\n"
     ]
    }
   ],
   "source": [
    "cg3 = set ()\n",
    "\n",
    "for g in tqdm.tqdm (train_data.CG3.values):\n",
    "    if g == g:\n",
    "        cg3.update (g.split (','))"
   ]
  },
  {
   "cell_type": "code",
   "execution_count": 12,
   "metadata": {},
   "outputs": [],
   "source": [
    "cg1_dict = {}\n",
    "\n",
    "for i, elem in enumerate (cg1):\n",
    "    cg1_dict[elem] = i + 15"
   ]
  },
  {
   "cell_type": "code",
   "execution_count": 13,
   "metadata": {},
   "outputs": [],
   "source": [
    "cg2_dict = {}\n",
    "\n",
    "for i, elem in enumerate (cg2):\n",
    "    cg2_dict[elem] = i + 15 + len (cg1_dict)"
   ]
  },
  {
   "cell_type": "code",
   "execution_count": 14,
   "metadata": {},
   "outputs": [],
   "source": [
    "cg3_dict = {}\n",
    "\n",
    "for i, elem in enumerate (cg3):\n",
    "    cg3_dict[elem] = i + 15 + len (cg1_dict) + len (cg2_dict)"
   ]
  },
  {
   "cell_type": "code",
   "execution_count": 15,
   "metadata": {},
   "outputs": [],
   "source": [
    "cols = train_data.columns\n",
    "cols = cols.drop ([u'label', u'CG1', u'CG2', u'CG3'])"
   ]
  },
  {
   "cell_type": "code",
   "execution_count": 2,
   "metadata": {},
   "outputs": [],
   "source": [
    "import sys"
   ]
  },
  {
   "cell_type": "code",
   "execution_count": 17,
   "metadata": {},
   "outputs": [
    {
     "name": "stderr",
     "output_type": "stream",
     "text": [
      "100%|██████████| 29989752/29989752 [4:55:22<00:00, 1692.18it/s]  \n"
     ]
    }
   ],
   "source": [
    "with open ('train_xgb.txt', \"w\") as f:\n",
    "    for row_num in tqdm.tqdm (range(len (train_data))):\n",
    "        f.write (\"{} \".format (train_data['label'][row_num]))\n",
    "        for num, c in enumerate (cols):\n",
    "            f.write (\"{}:{} \".format (num, train_data[c][row_num]))\n",
    "            \n",
    "        if train_data['CG1'][row_num] == train_data['CG1'][row_num]:\n",
    "            for g1 in train_data['CG1'][row_num].split (','):\n",
    "                f.write (\"{}:1 \".format (cg1_dict[g1]))\n",
    "                \n",
    "        if train_data['CG2'][row_num] == train_data['CG2'][row_num]:\n",
    "            for g2 in train_data['CG2'][row_num].split (','):\n",
    "                f.write (\"{}:1 \".format (cg2_dict[g2]))\n",
    "\n",
    "        if train_data['CG3'][row_num] == train_data['CG3'][row_num]:\n",
    "            for g3 in train_data['CG3'][row_num].split (','):\n",
    "                f.write (\"{}:1 \".format (cg3_dict[g3]))\n",
    "                \n",
    "        f.write (\"\\n\")"
   ]
  },
  {
   "cell_type": "code",
   "execution_count": 1,
   "metadata": {},
   "outputs": [],
   "source": [
    "import xgboost"
   ]
  },
  {
   "cell_type": "code",
   "execution_count": 2,
   "metadata": {},
   "outputs": [],
   "source": [
    "train_matr = xgboost.DMatrix ('train_xgb.txt')"
   ]
  },
  {
   "cell_type": "code",
   "execution_count": 3,
   "metadata": {},
   "outputs": [
    {
     "name": "stdout",
     "output_type": "stream",
     "text": [
      "total 22610600\r\n",
      "drwxr-xr-x 3 mikhail.belozerov Users        4096 июн 19 23:44 \u001b[0m\u001b[38;5;33m.\u001b[0m/\r\n",
      "drwxr-xr-x 7 mikhail.belozerov Users        4096 май  7 11:03 \u001b[38;5;33m..\u001b[0m/\r\n",
      "drwxr-xr-x 2 mikhail.belozerov Users        4096 май 11 16:45 \u001b[38;5;33m.ipynb_checkpoints\u001b[0m/\r\n",
      "-rw-r--r-- 1 mikhail.belozerov Users   224844633 май  7 22:10 sub.csv\r\n",
      "-rw-r--r-- 1 mikhail.belozerov Users  4901055117 апр 29  2017 test.csv\r\n",
      "-rw-r--r-- 1 mikhail.belozerov Users  7193233611 апр 29  2017 train.csv\r\n",
      "-rw-r--r-- 1 mikhail.belozerov Users 10834077495 июн 19 20:03 train_xgb.txt\r\n",
      "-rw-r--r-- 1 mikhail.belozerov Users        8361 июн 19 23:44 Untitled.ipynb\r\n"
     ]
    }
   ],
   "source": [
    "ls -la "
   ]
  },
  {
   "cell_type": "code",
   "execution_count": 5,
   "metadata": {},
   "outputs": [
    {
     "data": {
      "text/plain": [
       "array([0., 0., 0., ..., 0., 0., 0.], dtype=float32)"
      ]
     },
     "execution_count": 5,
     "metadata": {},
     "output_type": "execute_result"
    }
   ],
   "source": [
    "train_matr.get_label ()"
   ]
  },
  {
   "cell_type": "code",
   "execution_count": 6,
   "metadata": {},
   "outputs": [],
   "source": [
    "params = {'max_depth':7,\n",
    "'obj':'reg:logistic'}"
   ]
  },
  {
   "cell_type": "code",
   "execution_count": null,
   "metadata": {},
   "outputs": [],
   "source": [
    "train_result = xgboost.train (params, train_matr,num_boost_round=1000)"
   ]
  },
  {
   "cell_type": "code",
   "execution_count": null,
   "metadata": {},
   "outputs": [],
   "source": []
  }
 ],
 "metadata": {
  "kernelspec": {
   "display_name": "Python 3",
   "language": "python",
   "name": "python3"
  },
  "language_info": {
   "codemirror_mode": {
    "name": "ipython",
    "version": 2
   },
   "file_extension": ".py",
   "mimetype": "text/x-python",
   "name": "python",
   "nbconvert_exporter": "python",
   "pygments_lexer": "ipython2",
   "version": "2.7.14"
  }
 },
 "nbformat": 4,
 "nbformat_minor": 2
}
