{
 "cells": [
  {
   "cell_type": "code",
   "execution_count": 15,
   "metadata": {},
   "outputs": [],
   "source": [
    "import numpy as np\n",
    "import sys"
   ]
  },
  {
   "cell_type": "code",
   "execution_count": 9,
   "metadata": {},
   "outputs": [
    {
     "name": "stdout",
     "output_type": "stream",
     "text": [
      "Id,feature1,feature2,feature3,feature4,feature5,feature6,feature7,feature8,feature9,feature10\r\n",
      "1,4.77397060,6.28870916,3.64784479,5.13400888,9.52229691,9.16195107,6.35711718,7.17296934,1.41602564,6.06968880\r\n",
      "2,5.12932396,8.39112186,6.12639856,2.96031618,6.37552261,5.24287176,4.93583012,9.72775078,2.92516804,7.71357727\r\n",
      "3,5.25995350,0.86055845,1.92213845,6.63226891,8.90232658,3.48892927,0.64171320,0.20023048,4.57701731,0.63095838\r\n",
      "4,5.31606436,0.39280343,4.37637615,9.31835079,9.30809784,7.20952320,2.84293413,7.38534307,6.39978838,3.54048657\r\n",
      "5,9.56468201,5.88640165,6.57304049,8.58676338,4.39559889,9.23969841,3.98436666,8.14766884,6.84218502,9.10972023\r\n",
      "6,7.86002111,3.07457852,4.47033596,2.26106620,1.87533104,2.76234674,5.56443739,4.16501284,1.69607091,9.06803894\r\n",
      "7,2.94160366,2.32261539,5.84488487,2.44412732,1.52389789,7.32148504,1.25474894,7.93470383,1.64101923,7.45071411\r\n",
      "8,6.39458370,7.59734869,0.93480474,1.34902418,5.20210075,0.78232139,0.69906396,2.04655075,4.61420488,8.19677258\r\n",
      "9,8.70539856,0.72328800,0.04161609,9.23069096,5.93892145,1.80372262,1.63131499,3.91690230,9.13026714,8.19695187\r\n"
     ]
    }
   ],
   "source": [
    "!head X_public.csv"
   ]
  },
  {
   "cell_type": "code",
   "execution_count": 10,
   "metadata": {},
   "outputs": [],
   "source": [
    "my_data = np.genfromtxt('X_public.csv', delimiter=',', skip_header=1, usecols=(1,2,3,4,5,6,7,8,9,10))"
   ]
  },
  {
   "cell_type": "code",
   "execution_count": 29,
   "metadata": {},
   "outputs": [],
   "source": [
    "initial_x = my_data[2000:3000]"
   ]
  },
  {
   "cell_type": "code",
   "execution_count": 13,
   "metadata": {},
   "outputs": [],
   "source": [
    "def get_str_oracle (X):\n",
    "    return \"{} {} {} {} {} {} {} {} {} {}\".format (X[0], X[1], X[2], X[3], X[4], X[5], X[6], X[7], X[8], X[9])"
   ]
  },
  {
   "cell_type": "code",
   "execution_count": null,
   "metadata": {},
   "outputs": [
    {
     "name": "stderr",
     "output_type": "stream",
     "text": [
      "i:689 res:27986256146659.09375000000113984.000000000000000000000000"
     ]
    }
   ],
   "source": [
    "y = []\n",
    "for i, x in enumerate (initial_x):\n",
    "    args = get_str_oracle (x)\n",
    "    res = !./Oracle.static $args\n",
    "    sys.stderr.write (\"\\ri:{} res:{}\".format (i, res[0]))\n",
    "    try:\n",
    "        y.append (float (res[0]))\n",
    "    except ValueError as vr:\n",
    "        print vr, \"on res \",res[0], \"data\", args\n",
    "        y.append (None)"
   ]
  },
  {
   "cell_type": "code",
   "execution_count": null,
   "metadata": {},
   "outputs": [],
   "source": [
    "y = np.array (y)"
   ]
  },
  {
   "cell_type": "code",
   "execution_count": null,
   "metadata": {},
   "outputs": [],
   "source": [
    "np.savetxt (\"y_2000_2999.csv\", y)"
   ]
  },
  {
   "cell_type": "code",
   "execution_count": null,
   "metadata": {},
   "outputs": [],
   "source": []
  }
 ],
 "metadata": {
  "kernelspec": {
   "display_name": "Python 2",
   "language": "python",
   "name": "python2"
  },
  "language_info": {
   "codemirror_mode": {
    "name": "ipython",
    "version": 2
   },
   "file_extension": ".py",
   "mimetype": "text/x-python",
   "name": "python",
   "nbconvert_exporter": "python",
   "pygments_lexer": "ipython2",
   "version": "2.7.14"
  }
 },
 "nbformat": 4,
 "nbformat_minor": 2
}
