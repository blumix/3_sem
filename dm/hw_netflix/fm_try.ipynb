{
 "cells": [
  {
   "cell_type": "code",
   "execution_count": 1,
   "metadata": {},
   "outputs": [],
   "source": [
    "from pyfm import pylibfm\n",
    "from sklearn.feature_extraction import DictVectorizer\n",
    "import numpy as np\n",
    "import sys \n",
    "import pandas as pd\n",
    "from datetime import datetime"
   ]
  },
  {
   "cell_type": "code",
   "execution_count": 5,
   "metadata": {},
   "outputs": [
    {
     "name": "stdout",
     "output_type": "stream",
     "text": [
      "1,822109,5,2005-05-13\r\n",
      "1,885013,4,2005-10-19\r\n",
      "1,30878,4,2005-12-26\r\n",
      "1,893988,3,2005-11-17\r\n",
      "1,124105,4,2004-08-05\r\n",
      "1,1248029,3,2004-04-22\r\n",
      "1,1842128,4,2004-05-09\r\n",
      "1,2238063,3,2005-05-11\r\n",
      "1,1503895,4,2005-05-19\r\n",
      "1,2207774,5,2005-06-06\r\n"
     ]
    }
   ],
   "source": [
    "!head data/train.txt"
   ]
  },
  {
   "cell_type": "code",
   "execution_count": 16,
   "metadata": {},
   "outputs": [],
   "source": [
    "def train_generator ():\n",
    "    train  = pd.read_csv ('data/train.txt',names=['mid', 'uid', 'rate', 'date'])\n",
    "    count = len (train)\n",
    "    min_date = datetime.strptime('1999-11-10', '%Y-%m-%d')\n",
    "    train['date_day'] = train.apply(lambda x: (datetime.strptime(x['date'], '%Y-%m-%d') - min_date).days , axis=1)\n",
    "    print \"days updated\"\n",
    "    train = train.sort_values (by=['uid', 'date_day'])\n",
    "    train = train.reset_index (drop=True)\n",
    "    print \"sorted\"\n",
    "    mids = train.mid\n",
    "    mids.loc[-1] = None\n",
    "    mids.index = mids.index + 1\n",
    "    mids.sort_index (inplace=True)\n",
    "    mids = mids.drop(mids.index[len(mids)-1])\n",
    "    print \"mids constructed\"\n",
    "    fisrt_inds = []\n",
    "    for uid in set (train.uid): \n",
    "        fisrt_inds.append (train[train.uid == uid].index[0])\n",
    "    mids[fisrt_inds] = None\n",
    "    print \"mids really constructed\"\n",
    "    train['prev_movie'] = mids\n",
    "    keys = ['mid', 'uid', 'time', 'prev']\n",
    "    cur_num = 0\n",
    "    for uid in set (train.uid):\n",
    "        group = train.groupby ('uid').get_group (uid)\n",
    "        val = 1. / len (group)\n",
    "        other_movies = dict (zip (group.mid, [val] * len (group)))\n",
    "        for ind in range (len (group)):\n",
    "            other_movies.update (dict (zip (keys, group.iloc[ind][['mid', 'uid', 'date_day', 'prev_movie']])))\n",
    "            if other_movies['prev_movie'] is None:\n",
    "                other_movies.pop ('prev_movie')\n",
    "            cur_num += 1\n",
    "            sys.stderr.write (\"\\r{}/{}\".format (cur_num, count))\n",
    "            y.append (group.iloc[ind].rank)\n",
    "            yield other_movies"
   ]
  },
  {
   "cell_type": "code",
   "execution_count": 17,
   "metadata": {},
   "outputs": [],
   "source": [
    "v = DictVectorizer()"
   ]
  },
  {
   "cell_type": "code",
   "execution_count": null,
   "metadata": {},
   "outputs": [
    {
     "name": "stdout",
     "output_type": "stream",
     "text": [
      "days updated\n",
      "sorted\n",
      "mids constructed\n"
     ]
    }
   ],
   "source": [
    "X = v.fit_transform (train_generator ())"
   ]
  },
  {
   "cell_type": "code",
   "execution_count": 9,
   "metadata": {},
   "outputs": [],
   "source": [
    "\n",
    "train  = pd.read_csv ('data/train.txt',names=['mid', 'uid', 'rate', 'date'])\n",
    "\n",
    "test = pd.read_csv ('data/test.txt',names=['mid', 'uid', 'date'])"
   ]
  },
  {
   "cell_type": "code",
   "execution_count": 12,
   "metadata": {},
   "outputs": [
    {
     "data": {
      "text/plain": [
       "17770"
      ]
     },
     "execution_count": 12,
     "metadata": {},
     "output_type": "execute_result"
    }
   ],
   "source": [
    "len (set (test.mid))"
   ]
  },
  {
   "cell_type": "code",
   "execution_count": 11,
   "metadata": {},
   "outputs": [
    {
     "data": {
      "text/plain": [
       "472373"
      ]
     },
     "execution_count": 11,
     "metadata": {},
     "output_type": "execute_result"
    }
   ],
   "source": [
    "len (set (test.uid))"
   ]
  },
  {
   "cell_type": "code",
   "execution_count": null,
   "metadata": {},
   "outputs": [],
   "source": []
  }
 ],
 "metadata": {
  "kernelspec": {
   "display_name": "Python 3",
   "language": "python",
   "name": "python3"
  },
  "language_info": {
   "codemirror_mode": {
    "name": "ipython",
    "version": 2
   },
   "file_extension": ".py",
   "mimetype": "text/x-python",
   "name": "python",
   "nbconvert_exporter": "python",
   "pygments_lexer": "ipython2",
   "version": "2.7.13"
  }
 },
 "nbformat": 4,
 "nbformat_minor": 2
}
