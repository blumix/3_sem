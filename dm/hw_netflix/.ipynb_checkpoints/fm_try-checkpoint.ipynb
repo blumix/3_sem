{
 "cells": [
  {
   "cell_type": "code",
   "execution_count": 1,
   "metadata": {},
   "outputs": [],
   "source": [
    "from pyfm import pylibfm\n",
    "from sklearn.feature_extraction import DictVectorizer\n",
    "import numpy as np\n",
    "import sys \n",
    "import pandas as pd\n",
    "from datetime import datetime"
   ]
  },
  {
   "cell_type": "code",
   "execution_count": 2,
   "metadata": {},
   "outputs": [],
   "source": [
    "y = []"
   ]
  },
  {
   "cell_type": "code",
   "execution_count": 3,
   "metadata": {},
   "outputs": [],
   "source": [
    "def train_generator ():\n",
    "    train  = pd.read_csv ('data/train.txt',names=['uid', 'mid', 'rate', 'date'])\n",
    "    count = len (train)\n",
    "    min_date = datetime.strptime('1999-11-10', '%Y-%m-%d')\n",
    "    train['date_day'] = train.apply(lambda x: (datetime.strptime(x['date'], '%Y-%m-%d') - min_date).days , axis=1)\n",
    "    print \"days updated\"\n",
    "    train = train.sort_values (by=['uid', 'date_day'])\n",
    "    train = train.reset_index (drop=True)\n",
    "    print \"sorted\"\n",
    "    mids = train.mid\n",
    "    mids.loc[-1] = None\n",
    "    mids.index = mids.index + 1\n",
    "    mids.sort_index (inplace=True)\n",
    "    mids = mids.drop(mids.index[len(mids)-1])\n",
    "    print \"mids constructed\"\n",
    "    fisrt_inds = []\n",
    "    for uid in set (train.uid): \n",
    "        fisrt_inds.append (train[train.uid == uid].index[0])\n",
    "    mids[fisrt_inds] = None\n",
    "    print \"mids really constructed\"\n",
    "    train['prev_movie'] = mids\n",
    "    keys = ['uid', 'mid', 'time', 'prev']\n",
    "    cur_num = 0\n",
    "    for uid in set (train.uid):\n",
    "        group = train.groupby ('uid').get_group (uid)\n",
    "        val = 1. / len (group)\n",
    "        other_movies = dict (zip (group.mid, [val] * len (group)))\n",
    "        for ind in range (len (group)):\n",
    "            other_movies.update (dict (zip (keys, group.iloc[ind][['uid', 'mid', 'date_day', 'prev_movie']])))\n",
    "            if other_movies['prev_movie'] is None:\n",
    "                other_movies.pop ('prev_movie')\n",
    "            cur_num += 1\n",
    "            sys.stderr.write (\"\\r{}/{}\".format (cur_num, count))\n",
    "            y.append (group.iloc[ind].rank)\n",
    "            yield other_movies"
   ]
  },
  {
   "cell_type": "code",
   "execution_count": 4,
   "metadata": {},
   "outputs": [],
   "source": [
    "v = DictVectorizer()"
   ]
  },
  {
   "cell_type": "code",
   "execution_count": null,
   "metadata": {},
   "outputs": [],
   "source": [
    "X = v.fit_transform (train_generator ())"
   ]
  },
  {
   "cell_type": "code",
   "execution_count": null,
   "metadata": {},
   "outputs": [],
   "source": []
  }
 ],
 "metadata": {
  "kernelspec": {
   "display_name": "Python 3",
   "language": "python",
   "name": "python3"
  },
  "language_info": {
   "codemirror_mode": {
    "name": "ipython",
    "version": 2
   },
   "file_extension": ".py",
   "mimetype": "text/x-python",
   "name": "python",
   "nbconvert_exporter": "python",
   "pygments_lexer": "ipython2",
   "version": "2.7.13"
  }
 },
 "nbformat": 4,
 "nbformat_minor": 2
}
