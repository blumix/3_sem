{
 "cells": [
  {
   "cell_type": "code",
   "execution_count": 2,
   "metadata": {},
   "outputs": [],
   "source": [
    "import tqdm\n",
    "import pandas as pd"
   ]
  },
  {
   "cell_type": "code",
   "execution_count": 3,
   "metadata": {},
   "outputs": [],
   "source": [
    "header = open (\"train.csv\").readline ()"
   ]
  },
  {
   "cell_type": "code",
   "execution_count": 4,
   "metadata": {},
   "outputs": [
    {
     "data": {
      "text/plain": [
       "'timestamp;label;C1;C2;C3;C4;C5;C6;C7;C8;C9;C10;CG1;CG2;CG3;l1;l2;C11;C12\\n'"
      ]
     },
     "execution_count": 4,
     "metadata": {},
     "output_type": "execute_result"
    }
   ],
   "source": [
    "header"
   ]
  },
  {
   "cell_type": "code",
   "execution_count": 8,
   "metadata": {},
   "outputs": [],
   "source": [
    "column = header.strip ().split (\";\")"
   ]
  },
  {
   "cell_type": "code",
   "execution_count": 11,
   "metadata": {},
   "outputs": [],
   "source": [
    "train_data = pd.read_csv (\"train.csv\", sep=';', names=columns, skiprows=1)"
   ]
  },
  {
   "cell_type": "code",
   "execution_count": 21,
   "metadata": {},
   "outputs": [
    {
     "name": "stderr",
     "output_type": "stream",
     "text": [
      "100%|██████████| 29989752/29989752 [02:05<00:00, 238350.83it/s]\n"
     ]
    }
   ],
   "source": [
    "cg1 = set ()\n",
    "\n",
    "for g in tqdm.tqdm (train_data.CG1.values):\n",
    "    if g == g:with \n",
    "        cg1.update (g.split (','))"
   ]
  },
  {
   "cell_type": "code",
   "execution_count": 23,
   "metadata": {},
   "outputs": [
    {
     "name": "stderr",
     "output_type": "stream",
     "text": [
      "100%|██████████| 29989752/29989752 [00:25<00:00, 1167984.96it/s]\n"
     ]
    }
   ],
   "source": [
    "cg2 = set ()\n",
    "\n",
    "for g in tqdm.tqdm (train_data.CG2.values):\n",
    "    if g == g:\n",
    "        cg2.update (g.split (','))"
   ]
  },
  {
   "cell_type": "code",
   "execution_count": 25,
   "metadata": {},
   "outputs": [
    {
     "name": "stderr",
     "output_type": "stream",
     "text": [
      "100%|██████████| 29989752/29989752 [00:24<00:00, 1246215.84it/s]\n"
     ]
    }
   ],
   "source": [
    "cg3 = set ()\n",
    "\n",
    "for g in tqdm.tqdm (train_data.CG3.values):\n",
    "    if g == g:\n",
    "        cg3.update (g.split (','))"
   ]
  },
  {
   "cell_type": "code",
   "execution_count": 58,
   "metadata": {},
   "outputs": [],
   "source": [
    "cg1_dict = {}\n",
    "\n",
    "for i, elem in enumerate (cg1):\n",
    "    cg1_dict[elem] = i + 15"
   ]
  },
  {
   "cell_type": "code",
   "execution_count": 59,
   "metadata": {},
   "outputs": [],
   "source": [
    "cg2_dict = {}\n",
    "\n",
    "for i, elem in enumerate (cg2):\n",
    "    cg2_dict[elem] = i + 15 + len (cg1_dict)"
   ]
  },
  {
   "cell_type": "code",
   "execution_count": 60,
   "metadata": {},
   "outputs": [],
   "source": [
    "cg3_dict = {}\n",
    "\n",
    "for i, elem in enumerate (cg3):\n",
    "    cg3_dict[elem] = i + 15 + len (cg1_dict) + len (cg2_dict)"
   ]
  },
  {
   "cell_type": "code",
   "execution_count": 61,
   "metadata": {},
   "outputs": [],
   "source": [
    "cols = train_data.columns\n",
    "cols = cols.drop ([u'label', u'CG1', u'CG2', u'CG3'])"
   ]
  },
  {
   "cell_type": "code",
   "execution_count": 62,
   "metadata": {},
   "outputs": [
    {
     "data": {
      "text/plain": [
       "Index([u'timestamp', u'C1', u'C2', u'C3', u'C4', u'C5', u'C6', u'C7', u'C8',\n",
       "       u'C9', u'C10', u'l1', u'l2', u'C11', u'C12'],\n",
       "      dtype='object')"
      ]
     },
     "execution_count": 62,
     "metadata": {},
     "output_type": "execute_result"
    }
   ],
   "source": [
    "cols"
   ]
  },
  {
   "cell_type": "code",
   "execution_count": 75,
   "metadata": {},
   "outputs": [],
   "source": [
    "import sys"
   ]
  },
  {
   "cell_type": "code",
   "execution_count": null,
   "metadata": {},
   "outputs": [
    {
     "name": "stderr",
     "output_type": "stream",
     "text": [
      "  3%|▎         | 821602/29989752 [12:56<7:39:36, 1057.70it/s]"
     ]
    }
   ],
   "source": [
    "with open ('train_xgb.txt', \"w\") as f:\n",
    "    for row_num in tqdm.tqdm (range(len (train_data))):\n",
    "        f.write (\"{} \".format (train_data['label'][row_num]))\n",
    "        for num, c in enumerate (cols):\n",
    "            f.write (\"{}:{} \".format (num, train_data[c][row_num]))\n",
    "            \n",
    "        if train_data['CG1'][row_num] == train_data['CG1'][row_num]:\n",
    "            for g1 in train_data['CG1'][row_num].split (','):\n",
    "                f.write (\"{}:1 \".format (cg1_dict[g1]))\n",
    "                \n",
    "        if train_data['CG2'][row_num] == train_data['CG2'][row_num]:\n",
    "            for g2 in train_data['CG2'][row_num].split (','):\n",
    "                f.write (\"{}:1 \".format (cg2_dict[g2]))\n",
    "\n",
    "        if train_data['CG3'][row_num] == train_data['CG3'][row_num]:\n",
    "            for g3 in train_data['CG3'][row_num].split (','):\n",
    "                f.write (\"{}:1 \".format (cg3_dict[g3]))\n",
    "                \n",
    "        f.write (\"\\n\")"
   ]
  },
  {
   "cell_type": "code",
   "execution_count": null,
   "metadata": {},
   "outputs": [],
   "source": []
  }
 ],
 "metadata": {
  "kernelspec": {
   "display_name": "Python 3",
   "language": "python",
   "name": "python3"
  },
  "language_info": {
   "codemirror_mode": {
    "name": "ipython",
    "version": 2
   },
   "file_extension": ".py",
   "mimetype": "text/x-python",
   "name": "python",
   "nbconvert_exporter": "python",
   "pygments_lexer": "ipython2",
   "version": "2.7.13"
  }
 },
 "nbformat": 4,
 "nbformat_minor": 2
}
