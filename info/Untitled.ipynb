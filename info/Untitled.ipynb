{
 "cells": [
  {
   "cell_type": "code",
   "execution_count": 6,
   "metadata": {
    "scrolled": true
   },
   "outputs": [
    {
     "name": "stdout",
     "output_type": "stream",
     "text": [
      "Uninstalling opencv-contrib-python-3.3.1.11:\n",
      "  /Users/mikhailbelozerov/anaconda2/lib/python2.7/site-packages/cv2/.dylibs/QtCore\n",
      "  /Users/mikhailbelozerov/anaconda2/lib/python2.7/site-packages/cv2/.dylibs/QtGui\n",
      "  /Users/mikhailbelozerov/anaconda2/lib/python2.7/site-packages/cv2/.dylibs/QtTest\n",
      "  /Users/mikhailbelozerov/anaconda2/lib/python2.7/site-packages/cv2/.dylibs/libavcodec.57.107.100.dylib\n",
      "  /Users/mikhailbelozerov/anaconda2/lib/python2.7/site-packages/cv2/.dylibs/libavformat.57.83.100.dylib\n",
      "  /Users/mikhailbelozerov/anaconda2/lib/python2.7/site-packages/cv2/.dylibs/libavresample.3.7.0.dylib\n",
      "  /Users/mikhailbelozerov/anaconda2/lib/python2.7/site-packages/cv2/.dylibs/libavutil.55.78.100.dylib\n",
      "  /Users/mikhailbelozerov/anaconda2/lib/python2.7/site-packages/cv2/.dylibs/libmp3lame.0.dylib\n",
      "  /Users/mikhailbelozerov/anaconda2/lib/python2.7/site-packages/cv2/.dylibs/libswresample.2.9.100.dylib\n",
      "  /Users/mikhailbelozerov/anaconda2/lib/python2.7/site-packages/cv2/.dylibs/libswscale.4.8.100.dylib\n",
      "  /Users/mikhailbelozerov/anaconda2/lib/python2.7/site-packages/cv2/LICENSE-3RD-PARTY.txt\n",
      "  /Users/mikhailbelozerov/anaconda2/lib/python2.7/site-packages/cv2/LICENSE.txt\n",
      "  /Users/mikhailbelozerov/anaconda2/lib/python2.7/site-packages/cv2/__init__.py\n",
      "  /Users/mikhailbelozerov/anaconda2/lib/python2.7/site-packages/cv2/__init__.pyc\n",
      "  /Users/mikhailbelozerov/anaconda2/lib/python2.7/site-packages/cv2/cv2.so\n",
      "  /Users/mikhailbelozerov/anaconda2/lib/python2.7/site-packages/cv2/data/__init__.py\n",
      "  /Users/mikhailbelozerov/anaconda2/lib/python2.7/site-packages/cv2/data/__init__.pyc\n",
      "  /Users/mikhailbelozerov/anaconda2/lib/python2.7/site-packages/cv2/data/haarcascade_eye.xml\n",
      "  /Users/mikhailbelozerov/anaconda2/lib/python2.7/site-packages/cv2/data/haarcascade_eye_tree_eyeglasses.xml\n",
      "  /Users/mikhailbelozerov/anaconda2/lib/python2.7/site-packages/cv2/data/haarcascade_frontalcatface.xml\n",
      "  /Users/mikhailbelozerov/anaconda2/lib/python2.7/site-packages/cv2/data/haarcascade_frontalcatface_extended.xml\n",
      "  /Users/mikhailbelozerov/anaconda2/lib/python2.7/site-packages/cv2/data/haarcascade_frontalface_alt.xml\n",
      "  /Users/mikhailbelozerov/anaconda2/lib/python2.7/site-packages/cv2/data/haarcascade_frontalface_alt2.xml\n",
      "  /Users/mikhailbelozerov/anaconda2/lib/python2.7/site-packages/cv2/data/haarcascade_frontalface_alt_tree.xml\n",
      "  /Users/mikhailbelozerov/anaconda2/lib/python2.7/site-packages/cv2/data/haarcascade_frontalface_default.xml\n",
      "  /Users/mikhailbelozerov/anaconda2/lib/python2.7/site-packages/cv2/data/haarcascade_fullbody.xml\n",
      "  /Users/mikhailbelozerov/anaconda2/lib/python2.7/site-packages/cv2/data/haarcascade_lefteye_2splits.xml\n",
      "  /Users/mikhailbelozerov/anaconda2/lib/python2.7/site-packages/cv2/data/haarcascade_licence_plate_rus_16stages.xml\n",
      "  /Users/mikhailbelozerov/anaconda2/lib/python2.7/site-packages/cv2/data/haarcascade_lowerbody.xml\n",
      "  /Users/mikhailbelozerov/anaconda2/lib/python2.7/site-packages/cv2/data/haarcascade_profileface.xml\n",
      "  /Users/mikhailbelozerov/anaconda2/lib/python2.7/site-packages/cv2/data/haarcascade_righteye_2splits.xml\n",
      "  /Users/mikhailbelozerov/anaconda2/lib/python2.7/site-packages/cv2/data/haarcascade_russian_plate_number.xml\n",
      "  /Users/mikhailbelozerov/anaconda2/lib/python2.7/site-packages/cv2/data/haarcascade_smile.xml\n",
      "  /Users/mikhailbelozerov/anaconda2/lib/python2.7/site-packages/cv2/data/haarcascade_upperbody.xml\n",
      "  /Users/mikhailbelozerov/anaconda2/lib/python2.7/site-packages/opencv_contrib_python-3.3.1.11.dist-info/DESCRIPTION.rst\n",
      "  /Users/mikhailbelozerov/anaconda2/lib/python2.7/site-packages/opencv_contrib_python-3.3.1.11.dist-info/INSTALLER\n",
      "  /Users/mikhailbelozerov/anaconda2/lib/python2.7/site-packages/opencv_contrib_python-3.3.1.11.dist-info/METADATA\n",
      "  /Users/mikhailbelozerov/anaconda2/lib/python2.7/site-packages/opencv_contrib_python-3.3.1.11.dist-info/RECORD\n",
      "  /Users/mikhailbelozerov/anaconda2/lib/python2.7/site-packages/opencv_contrib_python-3.3.1.11.dist-info/WHEEL\n",
      "  /Users/mikhailbelozerov/anaconda2/lib/python2.7/site-packages/opencv_contrib_python-3.3.1.11.dist-info/metadata.json\n",
      "  /Users/mikhailbelozerov/anaconda2/lib/python2.7/site-packages/opencv_contrib_python-3.3.1.11.dist-info/top_level.txt\n",
      "Proceed (y/n)? ^C\n",
      "\u001b[31mOperation cancelled by user\u001b[0m\n",
      "\u001b[33mYou are using pip version 9.0.3, however version 10.0.0 is available.\n",
      "You should consider upgrading via the 'pip install --upgrade pip' command.\u001b[0m\n"
     ]
    }
   ],
   "source": [
    "!pip uninstall opencv-contrib-python"
   ]
  },
  {
   "cell_type": "code",
   "execution_count": 5,
   "metadata": {},
   "outputs": [
    {
     "name": "stdout",
     "output_type": "stream",
     "text": [
      "3.4.0\n"
     ]
    },
    {
     "ename": "AttributeError",
     "evalue": "'module' object has no attribute 'xfeatures2d'",
     "output_type": "error",
     "traceback": [
      "\u001b[0;31m---------------------------------------------------------------------------\u001b[0m",
      "\u001b[0;31mAttributeError\u001b[0m                            Traceback (most recent call last)",
      "\u001b[0;32m<ipython-input-5-9d5a8c2dfed8>\u001b[0m in \u001b[0;36m<module>\u001b[0;34m()\u001b[0m\n\u001b[1;32m     15\u001b[0m \u001b[0;31m# sift = cv2.SIFT()\u001b[0m\u001b[0;34m\u001b[0m\u001b[0;34m\u001b[0m\u001b[0m\n\u001b[1;32m     16\u001b[0m \u001b[0;31m# OpenCV 3\u001b[0m\u001b[0;34m\u001b[0m\u001b[0;34m\u001b[0m\u001b[0m\n\u001b[0;32m---> 17\u001b[0;31m \u001b[0msift\u001b[0m \u001b[0;34m=\u001b[0m \u001b[0mcv2\u001b[0m\u001b[0;34m.\u001b[0m\u001b[0mxfeatures2d\u001b[0m\u001b[0;34m.\u001b[0m\u001b[0mSIFT_create\u001b[0m\u001b[0;34m(\u001b[0m\u001b[0;34m)\u001b[0m\u001b[0;34m\u001b[0m\u001b[0m\n\u001b[0m\u001b[1;32m     18\u001b[0m \u001b[0mkp\u001b[0m \u001b[0;34m=\u001b[0m \u001b[0msift\u001b[0m\u001b[0;34m.\u001b[0m\u001b[0mdetect\u001b[0m\u001b[0;34m(\u001b[0m\u001b[0mgray\u001b[0m\u001b[0;34m,\u001b[0m \u001b[0mNone\u001b[0m\u001b[0;34m)\u001b[0m\u001b[0;34m\u001b[0m\u001b[0m\n\u001b[1;32m     19\u001b[0m \u001b[0;34m\u001b[0m\u001b[0m\n",
      "\u001b[0;31mAttributeError\u001b[0m: 'module' object has no attribute 'xfeatures2d'"
     ]
    }
   ],
   "source": [
    "import cv2\n",
    "import urllib2\n",
    "from IPython.display import Image\n",
    "from IPython.display import display\n",
    "\n",
    "print cv2.__version__\n",
    "\n",
    "img_file = urllib2.urlopen(' http://wallpapershome.ru/images/pages/ico_hs/5310.jpg')\n",
    "with open('img.jpg','wb') as output:\n",
    "    output.write(img_file.read())\n",
    "\n",
    "img = cv2.imread('img.jpg')\n",
    "gray = cv2.cvtColor(img, cv2.COLOR_BGR2GRAY)\n",
    "\n",
    "# sift = cv2.SIFT()\n",
    "# OpenCV 3\n",
    "sift = cv2.xfeatures2d.SIFT_create()\n",
    "kp = sift.detect(gray, None)\n",
    "\n",
    "img_res = cv2.drawKeypoints(gray, kp, img)\n",
    "cv2.imwrite('res.jpg', img_res)\n",
    "\n",
    "display(Image(filename='res.jpg', width=500))"
   ]
  },
  {
   "cell_type": "code",
   "execution_count": null,
   "metadata": {},
   "outputs": [],
   "source": []
  }
 ],
 "metadata": {
  "kernelspec": {
   "display_name": "Python 2",
   "language": "python",
   "name": "python2"
  },
  "language_info": {
   "codemirror_mode": {
    "name": "ipython",
    "version": 2
   },
   "file_extension": ".py",
   "mimetype": "text/x-python",
   "name": "python",
   "nbconvert_exporter": "python",
   "pygments_lexer": "ipython2",
   "version": "2.7.13"
  }
 },
 "nbformat": 4,
 "nbformat_minor": 2
}
