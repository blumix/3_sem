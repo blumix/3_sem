{
 "cells": [
  {
   "cell_type": "code",
   "execution_count": 1,
   "metadata": {
    "collapsed": true
   },
   "outputs": [],
   "source": [
    "import numpy as np\n",
    "import random\n",
    "from numpy.random import normal\n",
    "import sys\n",
    "from random import randrange, shuffle"
   ]
  },
  {
   "cell_type": "code",
   "execution_count": 2,
   "metadata": {},
   "outputs": [
    {
     "name": "stdout",
     "output_type": "stream",
     "text": [
      "/Users/an.novikova/Desktop/Technosphere/IR2\n"
     ]
    }
   ],
   "source": [
    "%cd Desktop/Technosphere/IR2/"
   ]
  },
  {
   "cell_type": "code",
   "execution_count": 3,
   "metadata": {
    "collapsed": true
   },
   "outputs": [],
   "source": [
    "data_c1 = open(\"c1.txt\", \"r\")\n",
    "data_c2 = open(\"c2.txt\", \"r\")"
   ]
  },
  {
   "cell_type": "code",
   "execution_count": 6,
   "metadata": {},
   "outputs": [
    {
     "data": {
      "text/plain": [
       "'1 1 1 0 0 0 0 0 0 0\\n'"
      ]
     },
     "execution_count": 6,
     "metadata": {},
     "output_type": "execute_result"
    }
   ],
   "source": [
    "# data_c1.readline()"
   ]
  },
  {
   "cell_type": "code",
   "execution_count": 7,
   "metadata": {},
   "outputs": [
    {
     "data": {
      "text/plain": [
       "'0 0 0 0 0 0 0 0 0 0\\n'"
      ]
     },
     "execution_count": 7,
     "metadata": {},
     "output_type": "execute_result"
    }
   ],
   "source": [
    "# data_c2.readline()"
   ]
  },
  {
   "cell_type": "code",
   "execution_count": 4,
   "metadata": {
    "collapsed": true
   },
   "outputs": [],
   "source": [
    "sessions_1 = []\n",
    "\n",
    "for line in data_c1:\n",
    "    l = [int(x) for x in line.strip().split()]\n",
    "    sessions_1.append(np.asarray(l))"
   ]
  },
  {
   "cell_type": "code",
   "execution_count": 5,
   "metadata": {},
   "outputs": [
    {
     "data": {
      "text/plain": [
       "array([1, 1, 1, 0, 0, 0, 0, 0, 0, 0])"
      ]
     },
     "execution_count": 5,
     "metadata": {},
     "output_type": "execute_result"
    }
   ],
   "source": [
    "sessions_1[0]"
   ]
  },
  {
   "cell_type": "code",
   "execution_count": 6,
   "metadata": {
    "collapsed": true
   },
   "outputs": [],
   "source": [
    "sessions_2 = []\n",
    "\n",
    "for line in data_c2:\n",
    "    l = [int(x) for x in line.strip().split()]\n",
    "    sessions_2.append(np.asarray(l))"
   ]
  },
  {
   "cell_type": "code",
   "execution_count": 7,
   "metadata": {
    "collapsed": true
   },
   "outputs": [],
   "source": [
    "sessions_in_group = 1000.0\n",
    "cnt_group = len(sessions_1) / sessions_in_group\n",
    "\n",
    "CTRs_1, CTRs_2 = [], []\n",
    "\n",
    "AverClicks_1, AverClicks_2 = [], []\n",
    "\n",
    "cnt_sessions = 0\n",
    "cur_CTR_1, cur_CTR_2 = 0, 0\n",
    "cur_AverClick_1, cur_AverClick_2 = 0, 0"
   ]
  },
  {
   "cell_type": "code",
   "execution_count": 8,
   "metadata": {
    "collapsed": true
   },
   "outputs": [],
   "source": [
    "for i in range(len(sessions_1)):\n",
    "    if cnt_sessions == sessions_in_group:\n",
    "        CTRs_1.append(cur_CTR_1 / sessions_in_group)\n",
    "        CTRs_2.append(cur_CTR_2 / sessions_in_group)\n",
    "        AverClicks_1.append(cur_AverClick_1 / sessions_in_group)\n",
    "        AverClicks_2.append(cur_AverClick_2 / sessions_in_group)\n",
    "        \n",
    "        cur_CTR_1, cur_CTR_2 = 0, 0\n",
    "        cur_AverClick_1, cur_AverClick_2 = 0, 0\n",
    "        cnt_sessions = 0\n",
    "    \n",
    "    cur_CTR_1 += 1 if (sessions_1[i].sum() > 0) else 0\n",
    "    cur_CTR_2 += 1 if (sessions_2[i].sum() > 0) else 0\n",
    "    cur_AverClick_1 += sessions_1[i].sum() / float(len(sessions_1[i]))\n",
    "    cur_AverClick_2 += sessions_2[i].sum() / float(len(sessions_2[i]))\n",
    "    cnt_sessions += 1\n",
    "    \n",
    "if cnt_sessions == sessions_in_group:\n",
    "    CTRs_1.append(cur_CTR_1 / sessions_in_group)\n",
    "    CTRs_2.append(cur_CTR_2 / sessions_in_group)\n",
    "    AverClicks_1.append(cur_AverClick_1 / sessions_in_group)\n",
    "    AverClicks_2.append(cur_AverClick_2 / sessions_in_group)"
   ]
  },
  {
   "cell_type": "code",
   "execution_count": 9,
   "metadata": {
    "collapsed": true
   },
   "outputs": [],
   "source": [
    "CTRs_1 = np.asarray(CTRs_1)\n",
    "CTRs_2 = np.asarray(CTRs_2)\n",
    "AverClicks_1 = np.asarray(AverClicks_1)\n",
    "AverClicks_2 = np.asarray(AverClicks_2)"
   ]
  },
  {
   "cell_type": "code",
   "execution_count": 10,
   "metadata": {},
   "outputs": [
    {
     "name": "stdout",
     "output_type": "stream",
     "text": [
      "CTRs_1.mean is 0.699946\n",
      "CTRs_2.mean is 0.670108\n"
     ]
    }
   ],
   "source": [
    "print \"CTRs_1.mean is\", CTRs_1.mean()\n",
    "print \"CTRs_2.mean is\", CTRs_2.mean()"
   ]
  },
  {
   "cell_type": "code",
   "execution_count": 11,
   "metadata": {},
   "outputs": [
    {
     "name": "stdout",
     "output_type": "stream",
     "text": [
      "AverClicks_1.mean is 0.1619103\n",
      "AverClicks_2.mean is 0.0862814\n"
     ]
    }
   ],
   "source": [
    "print \"AverClicks_1.mean is\", AverClicks_1.mean()\n",
    "print \"AverClicks_2.mean is\", AverClicks_2.mean()"
   ]
  },
  {
   "cell_type": "code",
   "execution_count": 12,
   "metadata": {
    "collapsed": true
   },
   "outputs": [],
   "source": [
    "# Процедура Bootstrap\n",
    "\n",
    "def GetBootstrap(sessions):\n",
    "    return np.random.choice(sessions, size=len(sessions), replace=True)"
   ]
  },
  {
   "cell_type": "code",
   "execution_count": 13,
   "metadata": {},
   "outputs": [],
   "source": [
    "# Подсчет t-значения\n",
    "\n",
    "_value = 1.96\n",
    "\n",
    "def calc_t_criterion(split_1, split_2, t_importance = _value):\n",
    "    t_value = abs(split_1.mean() - split_2.mean()) / \\\n",
    "        np.sqrt((split_1.var(ddof = 1) / float(split_1.shape[0])) + (split_2.var(ddof = 1) / float(split_2.shape[0])))\n",
    "    return 1 if t_value > t_importance else 0"
   ]
  },
  {
   "cell_type": "code",
   "execution_count": 14,
   "metadata": {},
   "outputs": [],
   "source": [
    "# Подсчет ASL\n",
    "\n",
    "def calc_asl(split_1, split_2, bootstrap_iter):\n",
    "    asl_metric = 0\n",
    "    for it in range(bootstrap_iter):\n",
    "        if it % 1000 == 0:\n",
    "            sys.stderr.write('\\rBootstrap iteration number is: ' + str(it))\n",
    "        bs_split_1 = GetBootstrap(split_1)\n",
    "        bs_split_2 = GetBootstrap(split_2)\n",
    "        \n",
    "        asl_metric += calc_t_criterion(bs_split_1, bs_split_2)\n",
    "    \n",
    "    return asl_metric / float(bootstrap_iter)"
   ]
  },
  {
   "cell_type": "code",
   "execution_count": 15,
   "metadata": {},
   "outputs": [
    {
     "name": "stdout",
     "output_type": "stream",
     "text": [
      "ASL metric for CTR is: "
     ]
    },
    {
     "name": "stderr",
     "output_type": "stream",
     "text": [
      "Bootstrap iteration number is: 999000"
     ]
    },
    {
     "name": "stdout",
     "output_type": "stream",
     "text": [
      " 1.0\n"
     ]
    }
   ],
   "source": [
    "print \"ASL metric for CTR is: \", calc_asl(CTRs_1, CTRs_2, bootstrap_iter=1000000)"
   ]
  },
  {
   "cell_type": "code",
   "execution_count": 17,
   "metadata": {},
   "outputs": [
    {
     "name": "stdout",
     "output_type": "stream",
     "text": [
      " ASL metric for AverCountOfClicks:"
     ]
    },
    {
     "name": "stderr",
     "output_type": "stream",
     "text": [
      "Bootstrap iteration number is: 999000"
     ]
    },
    {
     "name": "stdout",
     "output_type": "stream",
     "text": [
      " 1.0\n"
     ]
    }
   ],
   "source": [
    "print \"ASL metric for AverCountOfClicks:\", calc_asl(AverClicks_1, AverClicks_2, bootstrap_iter=1000000)"
   ]
  },
  {
   "cell_type": "markdown",
   "metadata": {},
   "source": [
    "#### Вывод: отвергаем гипотезу H0"
   ]
  },
  {
   "cell_type": "code",
   "execution_count": null,
   "metadata": {
    "collapsed": true
   },
   "outputs": [],
   "source": []
  }
 ],
 "metadata": {
  "kernelspec": {
   "display_name": "Python 2",
   "language": "python",
   "name": "python2"
  },
  "language_info": {
   "codemirror_mode": {
    "name": "ipython",
    "version": 2
   },
   "file_extension": ".py",
   "mimetype": "text/x-python",
   "name": "python",
   "nbconvert_exporter": "python",
   "pygments_lexer": "ipython2",
   "version": "2.7.14"
  }
 },
 "nbformat": 4,
 "nbformat_minor": 2
}
