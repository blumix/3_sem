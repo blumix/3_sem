{
 "cells": [
  {
   "cell_type": "code",
   "execution_count": 2,
   "metadata": {},
   "outputs": [],
   "source": [
    "import pickle\n",
    "\n",
    "import time\n",
    "\n",
    "import multiprocessing\n",
    "from collections import OrderedDict, defaultdict\n",
    "from multiprocessing import Process\n",
    "\n",
    "import numpy as np\n",
    "from gensim.models.doc2vec import TaggedDocument\n",
    "from gensim.summarization.bm25 import BM25\n",
    "\n",
    "import DocStreamReader\n",
    "import sys\n",
    "from os import listdir\n",
    "from pymystem3 import Mystem\n"
   ]
  },
  {
   "cell_type": "code",
   "execution_count": 3,
   "metadata": {},
   "outputs": [],
   "source": [
    "def read_queries(f_name='queries.numerate.txt'):\n",
    "    queries = {}\n",
    "    with open(f_name, encoding='utf-8') as f:\n",
    "        content = f.readlines()\n",
    "    content = [x.strip() for x in content]\n",
    "    for url in content:\n",
    "        split = url.split('\\t')\n",
    "        queries[int(split[0])] = DocStreamReader.clear_text(split[1])\n",
    "    return queries\n",
    "\n",
    "\n",
    "def read_urls(f_name='urls.numerate.txt'):\n",
    "    urls = {}\n",
    "    with open(f_name) as f:\n",
    "        content = f.readlines()\n",
    "    content = [x.strip() for x in content]\n",
    "    for url in content:\n",
    "        split = url.split('\\t')\n",
    "        urls[split[1]] = int(split[0])\n",
    "    return urls\n"
   ]
  },
  {
   "cell_type": "code",
   "execution_count": 4,
   "metadata": {},
   "outputs": [],
   "source": [
    "class document_not_splited:\n",
    "    def __init__(self, line):\n",
    "        spl = line.split(\"\\t\")\n",
    "        self.index = int(spl[0])\n",
    "        self.url = spl[1]\n",
    "        self.title = spl[2]\n",
    "        self.keywords = spl[3]\n",
    "        self.links = spl[4]\n",
    "        self.text = spl[5]\n",
    "        self.description = spl[6][:-1]"
   ]
  },
  {
   "cell_type": "code",
   "execution_count": 5,
   "metadata": {},
   "outputs": [],
   "source": [
    "def read_docs_nosplit():\n",
    "    f = open(\"new_documents.dump\", 'r', encoding='utf-8')\n",
    "\n",
    "    i = 0\n",
    "    for line in f.readlines():\n",
    "        sys.stderr.write(f\"\\r{i} doc read.\")\n",
    "        i += 1\n",
    "        yield document_not_splited(line)"
   ]
  },
  {
   "cell_type": "code",
   "execution_count": null,
   "metadata": {},
   "outputs": [],
   "source": []
  }
 ],
 "metadata": {
  "kernelspec": {
   "display_name": "Python 3",
   "language": "python",
   "name": "python3"
  },
  "language_info": {
   "codemirror_mode": {
    "name": "ipython",
    "version": 3
   },
   "file_extension": ".py",
   "mimetype": "text/x-python",
   "name": "python",
   "nbconvert_exporter": "python",
   "pygments_lexer": "ipython3",
   "version": "3.6.3"
  }
 },
 "nbformat": 4,
 "nbformat_minor": 2
}
