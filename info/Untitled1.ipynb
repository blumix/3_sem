{
 "cells": [
  {
   "cell_type": "code",
   "execution_count": 1,
   "metadata": {},
   "outputs": [],
   "source": [
    "from math import log\n",
    "\n",
    "k1 = 1.2\n",
    "k2 = 100\n",
    "b = 0.75\n",
    "R = 0.0\n",
    "\n",
    "\n",
    "def score_BM25(n, f, qf, r, N, dl, avdl):\n",
    "\tK = compute_K(dl, avdl)\n",
    "\tfirst = log( ( (r + 0.5) / (R - r + 0.5) ) / ( (n - r + 0.5) / (N - n - R + r + 0.5)) )\n",
    "\tsecond = ((k1 + 1) * f) / (K + f)\n",
    "\tthird = ((k2+1) * qf) / (k2 + qf)\n",
    "\treturn first * second * third\n",
    "\n",
    "\n",
    "def compute_K(dl, avdl):\n",
    "\treturn k1 * ((1-b) + b * (float(dl)/float(avdl)) )"
   ]
  },
  {
   "cell_type": "code",
   "execution_count": null,
   "metadata": {},
   "outputs": [],
   "source": []
  }
 ],
 "metadata": {
  "kernelspec": {
   "display_name": "Python 3",
   "language": "python",
   "name": "python3"
  },
  "language_info": {
   "codemirror_mode": {
    "name": "ipython",
    "version": 2
   },
   "file_extension": ".py",
   "mimetype": "text/x-python",
   "name": "python",
   "nbconvert_exporter": "python",
   "pygments_lexer": "ipython2",
   "version": "2.7.13"
  }
 },
 "nbformat": 4,
 "nbformat_minor": 2
}
