{
 "cells": [
  {
   "cell_type": "code",
   "execution_count": 1,
   "metadata": {},
   "outputs": [
    {
     "name": "stderr",
     "output_type": "stream",
     "text": [
      "100%|██████████| 582167/582167 [00:06<00:00, 83707.87it/s]\n"
     ]
    }
   ],
   "source": [
    "import gensim as gs\n",
    "import math\n",
    "import numpy as np\n",
    "import tqdm\n",
    "\n",
    "dct_title = gs.corpora.Dictionary.load (\"../result/dct_title.dump\")\n",
    "\n",
    "corpus = gs.corpora.MmCorpus('../result/corpus_title_only.mm')\n",
    "\n",
    "PARAM_K1 = 1.5\n",
    "PARAM_B = 0.75\n",
    "EPSILON = 0.25\n",
    "\n",
    "corp_size = 0\n",
    "corp_size_words = 0\n",
    "for doc in tqdm.tqdm (corpus):\n",
    "    corp_size_words += sum (dict (doc).itervalues ())\n",
    "    corp_size += 1\n",
    "\n",
    "avgdl = float (corp_size_words) / corp_size\n",
    "\n",
    "idfs = {}\n",
    "\n",
    "summ_idf = 0\n",
    "\n",
    "\n",
    "for word_id, freq in dct_title.dfs.iteritems ():\n",
    "    idfs[word_id] = math.log(corp_size - freq + 0.5) - math.log(freq + 0.5)\n",
    "    summ_idf += idfs[word_id]\n",
    "\n",
    "average_idf = float (summ_idf) / len (dct_title.dfs)\n",
    "\n",
    "for id in idfs.iterkeys ():\n",
    "    idfs[id] = idfs[id] if idfs[id] >= 0 else EPSILON * average_idf\n",
    "\n",
    "q_ids = []\n",
    "queries = []\n",
    "with open (\"../data/queries.tsv\") as fin:\n",
    "    for q in fin:\n",
    "        q = q.strip ().decode (\"utf-8\").upper ().split (\"\\t\")\n",
    "        q_ids.append (int (q[0]))\n",
    "        queries.append (dict (dct_title.doc2bow (q[1].split ())))\n",
    "\n",
    "q_size = len (queries)\n",
    "\n",
    "result = np.zeros ((q_size, corp_size))"
   ]
  },
  {
   "cell_type": "code",
   "execution_count": 2,
   "metadata": {},
   "outputs": [
    {
     "name": "stderr",
     "output_type": "stream",
     "text": [
      "582167it [1:25:50, 113.02it/s]\n"
     ]
    }
   ],
   "source": [
    "for doc_i, doc in tqdm.tqdm (enumerate (corpus)):\n",
    "    doc = dict (doc)\n",
    "    doc_keys = set (doc)\n",
    "    doc_len = sum (doc.itervalues ())\n",
    "    for q_i, q in enumerate (queries):\n",
    "        score = 0\n",
    "        for word in set (q.keys ()) & doc_keys:\n",
    "            idf = idfs[word]\n",
    "            score += (idf * doc[word] * (PARAM_K1 + 1)\n",
    "                      / (doc[word] + PARAM_K1 * (1 - PARAM_B + PARAM_B * doc_len / avgdl)))\n",
    "        result[q_i, doc_i] = score"
   ]
  },
  {
   "cell_type": "code",
   "execution_count": 4,
   "metadata": {},
   "outputs": [
    {
     "data": {
      "text/plain": [
       "582167"
      ]
     },
     "execution_count": 4,
     "metadata": {},
     "output_type": "execute_result"
    }
   ],
   "source": [
    "len (result[0,:])"
   ]
  },
  {
   "cell_type": "code",
   "execution_count": 6,
   "metadata": {},
   "outputs": [
    {
     "data": {
      "text/plain": [
       "array([241765, 563677, 461894,  49847, 118027])"
      ]
     },
     "execution_count": 6,
     "metadata": {},
     "output_type": "execute_result"
    }
   ],
   "source": [
    "np.argsort (result[0,:])[-5:][::-1]"
   ]
  },
  {
   "cell_type": "code",
   "execution_count": 14,
   "metadata": {},
   "outputs": [
    {
     "name": "stderr",
     "output_type": "stream",
     "text": [
      "6311it [01:29, 70.60it/s]\n"
     ]
    }
   ],
   "source": [
    "with open (\"../result/result_bm25_aver_0_try_0_title_self.csv\", \"w\") as fout:\n",
    "    fout.write (\"QueryId,DocumentId\\n\")\n",
    "    \n",
    "    for q_num, qid in tqdm.tqdm (enumerate (q_ids)):\n",
    "        for doc in np.argsort (result[q_num, :])[-5:][::-1]:\n",
    "            fout.write (\"{},{}\\n\".format (qid, doc))"
   ]
  },
  {
   "cell_type": "code",
   "execution_count": null,
   "metadata": {},
   "outputs": [],
   "source": [
    "np.save (\"bm25_title_result.dump\", result)"
   ]
  },
  {
   "cell_type": "code",
   "execution_count": null,
   "metadata": {},
   "outputs": [],
   "source": []
  }
 ],
 "metadata": {
  "kernelspec": {
   "display_name": "Python 3",
   "language": "python",
   "name": "python3"
  },
  "language_info": {
   "codemirror_mode": {
    "name": "ipython",
    "version": 2
   },
   "file_extension": ".py",
   "mimetype": "text/x-python",
   "name": "python",
   "nbconvert_exporter": "python",
   "pygments_lexer": "ipython2",
   "version": "2.7.14"
  }
 },
 "nbformat": 4,
 "nbformat_minor": 2
}
