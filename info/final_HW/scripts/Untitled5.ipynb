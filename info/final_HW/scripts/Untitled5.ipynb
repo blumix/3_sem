{
 "cells": [
  {
   "cell_type": "code",
   "execution_count": null,
   "metadata": {},
   "outputs": [],
   "source": [
    "import numpy as np"
   ]
  },
  {
   "cell_type": "code",
   "execution_count": null,
   "metadata": {},
   "outputs": [],
   "source": [
    "from numba import jit"
   ]
  },
  {
   "cell_type": "code",
   "execution_count": null,
   "metadata": {},
   "outputs": [],
   "source": [
    "ls ../result/"
   ]
  },
  {
   "cell_type": "code",
   "execution_count": null,
   "metadata": {},
   "outputs": [],
   "source": [
    "@jit\n",
    "def add (a, b, max_b):\n",
    "    for i in range (a.shape[0]):\n",
    "        for j in range (a.shape[1]):\n",
    "            a[i][j] += b[i][j] / max_b"
   ]
  },
  {
   "cell_type": "code",
   "execution_count": null,
   "metadata": {},
   "outputs": [],
   "source": [
    "#initial = np.load (\"../result/BIGRAMS_BODY/ranking.npy\")\n",
    "#first = np.losd (\"../result/BIGRAMS_TITLE/ranking.npy\")"
   ]
  },
  {
   "cell_type": "code",
   "execution_count": null,
   "metadata": {},
   "outputs": [],
   "source": [
    "initial = np.load (\"../result/BIGRAMS_TITLE/ranking.npy\")"
   ]
  },
  {
   "cell_type": "code",
   "execution_count": null,
   "metadata": {},
   "outputs": [],
   "source": [
    "initial = initial / initial.max ()"
   ]
  },
  {
   "cell_type": "code",
   "execution_count": null,
   "metadata": {},
   "outputs": [],
   "source": [
    "first = np.load (\"../result/TRIGRAMS_TITLE/ranking.npy\")"
   ]
  },
  {
   "cell_type": "code",
   "execution_count": null,
   "metadata": {},
   "outputs": [],
   "source": [
    "add (initial, first, first.max ())"
   ]
  },
  {
   "cell_type": "code",
   "execution_count": null,
   "metadata": {},
   "outputs": [],
   "source": [
    "del first"
   ]
  },
  {
   "cell_type": "code",
   "execution_count": null,
   "metadata": {},
   "outputs": [],
   "source": [
    "second = np.load (\"../result/WORDS_TITLE/ranking.npy\")"
   ]
  },
  {
   "cell_type": "code",
   "execution_count": null,
   "metadata": {},
   "outputs": [],
   "source": [
    "add (initial, second, second.max ())"
   ]
  },
  {
   "cell_type": "code",
   "execution_count": null,
   "metadata": {},
   "outputs": [],
   "source": [
    "del second"
   ]
  },
  {
   "cell_type": "code",
   "execution_count": null,
   "metadata": {},
   "outputs": [],
   "source": [
    "third = np.load (\"../result/WORDS_BODY/ranking.npy\")"
   ]
  },
  {
   "cell_type": "code",
   "execution_count": null,
   "metadata": {},
   "outputs": [],
   "source": [
    "add (initial, third, third.max () * 2)"
   ]
  },
  {
   "cell_type": "code",
   "execution_count": null,
   "metadata": {},
   "outputs": [],
   "source": [
    "del third"
   ]
  },
  {
   "cell_type": "code",
   "execution_count": null,
   "metadata": {},
   "outputs": [],
   "source": [
    "fourth = np.load (\"../result/BIGRAMS_BODY/ranking.npy\")"
   ]
  },
  {
   "cell_type": "code",
   "execution_count": null,
   "metadata": {},
   "outputs": [],
   "source": [
    "add (initial, fourth, fourth.max () * 5)"
   ]
  },
  {
   "cell_type": "code",
   "execution_count": null,
   "metadata": {},
   "outputs": [],
   "source": [
    "del fourth"
   ]
  },
  {
   "cell_type": "code",
   "execution_count": null,
   "metadata": {},
   "outputs": [],
   "source": [
    "fivth = np.load (\"../result/TRIGRAMS_BODY/ranking.npy\")"
   ]
  },
  {
   "cell_type": "code",
   "execution_count": null,
   "metadata": {},
   "outputs": [],
   "source": [
    "add (initial, fivth, fivth.max () * 5)"
   ]
  },
  {
   "cell_type": "code",
   "execution_count": null,
   "metadata": {},
   "outputs": [],
   "source": [
    "del fivth"
   ]
  },
  {
   "cell_type": "code",
   "execution_count": null,
   "metadata": {},
   "outputs": [],
   "source": [
    "TRY_NAME = \"whole\""
   ]
  },
  {
   "cell_type": "code",
   "execution_count": null,
   "metadata": {},
   "outputs": [],
   "source": [
    "q_ids = []\n",
    "queries = []\n",
    "with open (\"../data/queries.tsv\") as fin:\n",
    "    for q in fin:\n",
    "        q = q.strip ().decode (\"utf-8\").upper ().split (\"\\t\")\n",
    "        q_ids.append (int (q[0]))\n",
    "        #queries.append (dict (dct_title.doc2bow ([u''.join (gram) for gram in ngrams(q[1], NGRAMS, pad_left=True, pad_right=True, right_pad_symbol=\"$\", left_pad_symbol=\"$\")])))\n"
   ]
  },
  {
   "cell_type": "code",
   "execution_count": null,
   "metadata": {},
   "outputs": [],
   "source": [
    "import tqdm"
   ]
  },
  {
   "cell_type": "code",
   "execution_count": null,
   "metadata": {},
   "outputs": [],
   "source": [
    "with open (\"../result/result_{}.csv\".format (TRY_NAME), \"w\") as fout:\n",
    "    fout.write (\"QueryId,DocumentId\\n\")\n",
    "    \n",
    "    for q_num, qid in tqdm.tqdm (enumerate (q_ids)):\n",
    "        for doc in np.argsort (initial[q_num, :])[-5:][::-1]:\n",
    "            fout.write (\"{},{}\\n\".format (qid, doc))\n",
    "\n",
    "np.save (open (\"../result/{}/ranking.npy\".format (TRY_NAME), \"wb\"), result)"
   ]
  },
  {
   "cell_type": "code",
   "execution_count": null,
   "metadata": {},
   "outputs": [],
   "source": [
    "del initial\n"
   ]
  },
  {
   "cell_type": "code",
   "execution_count": null,
   "metadata": {},
   "outputs": [],
   "source": [
    "from pymystem3 import Mystem"
   ]
  },
  {
   "cell_type": "code",
   "execution_count": null,
   "metadata": {},
   "outputs": [],
   "source": [
    "title = True"
   ]
  },
  {
   "cell_type": "code",
   "execution_count": null,
   "metadata": {},
   "outputs": [],
   "source": [
    "stemmer = Mystem ()"
   ]
  },
  {
   "cell_type": "code",
   "execution_count": null,
   "metadata": {},
   "outputs": [],
   "source": [
    "with open (\"../data/docs.tsv\") as fin:\n",
    "    with open (\"../data/titles.tsv\", \"w\") as title_doc:\n",
    "        doc_num = 1 if title else 2\n",
    "        \n",
    "        for doc in tqdm.tqdm (fin):\n",
    "            doc = doc.strip ().split(\"\\t\")\n",
    "            \n",
    "            result = doc[0] + '\\t'\n",
    "            if len (doc) > doc_num:\n",
    "                result += ''.join (stemmer.lemmatize (doc[doc_num]))\n",
    "                \n",
    "            title_doc.write (result)"
   ]
  },
  {
   "cell_type": "code",
   "execution_count": null,
   "metadata": {},
   "outputs": [],
   "source": [
    "title = False"
   ]
  },
  {
   "cell_type": "code",
   "execution_count": null,
   "metadata": {},
   "outputs": [],
   "source": [
    "with open (\"../data/docs.tsv\") as fin:\n",
    "    with open (\"../data/bodies.tsv\", \"w\") as title_doc:\n",
    "        doc_num = 1 if title else 2\n",
    "        \n",
    "        for doc in tqdm.tqdm (fin):\n",
    "            doc = doc.strip ().split(\"\\t\")\n",
    "            \n",
    "            result = doc[0] + '\\t'\n",
    "            if len (doc) > doc_num:\n",
    "                result += ''.join (stemmer.lemmatize (doc[doc_num]))\n",
    "                \n",
    "            title_doc.write (result)"
   ]
  },
  {
   "cell_type": "code",
   "execution_count": null,
   "metadata": {},
   "outputs": [],
   "source": [
    "logging.disable (logging.INFO)"
   ]
  },
  {
   "cell_type": "code",
   "execution_count": null,
   "metadata": {},
   "outputs": [],
   "source": [
    "from gensim.corpora import Dictionary\n",
    "import tqdm\n",
    "import sys\n",
    "from gensim import corpora\n",
    "from gensim import corpora, models, similarities\n",
    "import numpy as np\n",
    "import logging\n",
    "\n",
    "TRY_NAME = \"WORDS_TITLE_STEMMED\"\n",
    "title = True\n",
    "\n",
    "dct = Dictionary(prune_at=None)\n",
    "\n",
    "with open (\"../data/titles.tsv\") as fin:\n",
    "    doc_num = 1 if title else 2\n",
    "    \n",
    "    for doc in tqdm.tqdm (fin):\n",
    "        doc = doc.decode (\"utf-8\").lower ().strip ().split(\"\\t\")\n",
    "        if len (doc) > doc_num:\n",
    "            dct.add_documents ([doc[doc_num].split ()], prune_at=None)\n",
    "\n",
    "dct.save (\"../result/{}/dict.dct\".format (TRY_NAME))"
   ]
  },
  {
   "cell_type": "code",
   "execution_count": null,
   "metadata": {},
   "outputs": [],
   "source": [
    "from gensim.corpora import Dictionary\n",
    "import tqdm\n",
    "import sys\n",
    "from gensim import corpora\n",
    "from gensim import corpora, models, similarities\n",
    "import numpy as np\n",
    "import logging\n",
    "import gensim as gs\n",
    "import math\n",
    "import numpy as np\n",
    "import tqdm"
   ]
  },
  {
   "cell_type": "code",
   "execution_count": null,
   "metadata": {},
   "outputs": [],
   "source": [
    "TRY_NAME = \"WORDS_TITLE_STEMMED\"\n"
   ]
  },
  {
   "cell_type": "code",
   "execution_count": null,
   "metadata": {},
   "outputs": [],
   "source": [
    "dct_title = gs.corpora.Dictionary.load (\"../result/{}/dict.dct\".format (TRY_NAME))"
   ]
  },
  {
   "cell_type": "code",
   "execution_count": null,
   "metadata": {},
   "outputs": [],
   "source": [
    "q_ids = []\n",
    "queries = []\n",
    "with open (\"../data/queries.tsv\") as fin:\n",
    "    for q in fin:\n",
    "        q = q.strip ().decode (\"utf-8\").lower ().split (\"\\t\")\n",
    "        q_ids.append (int (q[0]))\n",
    "        print ''.join (stemmer.lemmatize (q[1]))\n",
    "        queries.append (dict (dct_title.doc2bow (stemmer.lemmatize (q[1]))))"
   ]
  },
  {
   "cell_type": "code",
   "execution_count": null,
   "metadata": {},
   "outputs": [],
   "source": [
    "dct_title.doc2bow ([\"являться\",\"ли\"])"
   ]
  },
  {
   "cell_type": "code",
   "execution_count": 1,
   "metadata": {},
   "outputs": [],
   "source": [
    "from gensim.corpora import Dictionary\n",
    "import tqdm\n",
    "import sys\n",
    "from gensim import corpora\n",
    "from gensim import corpora, models, similarities\n",
    "import numpy as np\n",
    "import logging"
   ]
  },
  {
   "cell_type": "code",
   "execution_count": 2,
   "metadata": {},
   "outputs": [
    {
     "name": "stderr",
     "output_type": "stream",
     "text": [
      "558583it [00:14, 37791.74it/s]\n"
     ]
    }
   ],
   "source": [
    "TRY_NAME = \"WORDS_TITLE_STEMMED\"\n",
    "title = True\n",
    "\n",
    "dct = Dictionary(prune_at=None)\n",
    "\n",
    "with open (\"../data/titles.tsv\") as fin:\n",
    "    doc_num = 1 \n",
    "    \n",
    "    for doc in tqdm.tqdm (fin):\n",
    "        doc = doc.decode (\"utf-8\").lower ().strip ().split(\"\\t\")\n",
    "        if len (doc) > doc_num:\n",
    "            dct.add_documents ([doc[doc_num].split ()], prune_at=None)\n",
    "        else:\n",
    "            print \"len == 0\"\n",
    "\n",
    "dct.save (\"../result/{}/dict.dct\".format (TRY_NAME))"
   ]
  },
  {
   "cell_type": "code",
   "execution_count": 4,
   "metadata": {},
   "outputs": [],
   "source": [
    "# logging.basicConfig(format='%(asctime)s : %(levelname)s : %(message)s', level=logging.INFO)\n",
    "\n",
    "def doc_reader (title):\n",
    "    doc_num = 0\n",
    "    \n",
    "    with open (\"../data/titles.tsv\") as fin:\n",
    "        for i, doc in enumerate (fin):\n",
    "            doc = doc.decode (\"utf-8\").lower ().strip ().split(\"\\t\")[1:]\n",
    "            if len (doc) > doc_num:\n",
    "                yield dct.doc2bow(doc[doc_num].split ())\n",
    "            else:\n",
    "                print \"len == 0\"\n",
    "                yield []"
   ]
  },
  {
   "cell_type": "code",
   "execution_count": 5,
   "metadata": {},
   "outputs": [],
   "source": [
    "corpora.MmCorpus.serialize('../result/{}/corpus.mm'.format (TRY_NAME), doc_reader (title))"
   ]
  },
  {
   "cell_type": "code",
   "execution_count": 7,
   "metadata": {},
   "outputs": [],
   "source": [
    "import gensim as gs\n",
    "import math\n",
    "import numpy as np\n",
    "import tqdm"
   ]
  },
  {
   "cell_type": "code",
   "execution_count": 8,
   "metadata": {},
   "outputs": [],
   "source": [
    "dct_title = gs.corpora.Dictionary.load (\"../result/{}/dict.dct\".format (TRY_NAME))"
   ]
  },
  {
   "cell_type": "code",
   "execution_count": 9,
   "metadata": {},
   "outputs": [
    {
     "name": "stderr",
     "output_type": "stream",
     "text": [
      "100%|██████████| 558583/558583 [00:03<00:00, 153142.26it/s]\n"
     ]
    }
   ],
   "source": [
    "corpus = gs.corpora.MmCorpus('../result/{}/corpus.mm'.format (TRY_NAME))\n",
    "\n",
    "PARAM_K1 = 1.5\n",
    "PARAM_B = 0.75\n",
    "EPSILON = 0.25\n",
    "\n",
    "corp_size = 0\n",
    "corp_size_words = 0\n",
    "for doc in tqdm.tqdm (corpus):\n",
    "    corp_size_words += sum (dict (doc).itervalues ())\n",
    "    corp_size += 1"
   ]
  },
  {
   "cell_type": "code",
   "execution_count": 11,
   "metadata": {},
   "outputs": [],
   "source": [
    "from pymystem3 import Mystem\n",
    "stemmer = Mystem ()"
   ]
  },
  {
   "cell_type": "code",
   "execution_count": 12,
   "metadata": {},
   "outputs": [],
   "source": [
    "avgdl = float (corp_size_words) / corp_size\n",
    "\n",
    "idfs = {}\n",
    "\n",
    "summ_idf = 0\n",
    "\n",
    "for word_id, freq in dct_title.dfs.iteritems ():\n",
    "    idfs[word_id] = math.log(corp_size - freq + 0.5) - math.log(freq + 0.5)\n",
    "    summ_idf += idfs[word_id]\n",
    "\n",
    "average_idf = float (summ_idf) / len (dct_title.dfs)\n",
    "\n",
    "for id in idfs.iterkeys ():\n",
    "    idfs[id] = idfs[id] if idfs[id] >= 0 else EPSILON * average_idf\n",
    "\n",
    "q_ids = []\n",
    "queries = []\n",
    "with open (\"../data/queries.tsv\") as fin:\n",
    "    for q in fin:\n",
    "        q = q.strip ().decode (\"utf-8\").lower ().split (\"\\t\")\n",
    "        q_ids.append (int (q[0]))\n",
    "        queries.append (dict (dct_title.doc2bow (stemmer.lemmatize (q[1]))))\n",
    "\n",
    "q_size = len (queries)"
   ]
  },
  {
   "cell_type": "code",
   "execution_count": 13,
   "metadata": {},
   "outputs": [
    {
     "data": {
      "text/plain": [
       "{752: 1, 872: 1, 4200: 1}"
      ]
     },
     "execution_count": 13,
     "metadata": {},
     "output_type": "execute_result"
    }
   ],
   "source": [
    "queries[0]"
   ]
  },
  {
   "cell_type": "code",
   "execution_count": 3,
   "metadata": {},
   "outputs": [
    {
     "ename": "KeyboardInterrupt",
     "evalue": "",
     "output_type": "error",
     "traceback": [
      "\u001b[0;31m---------------------------------------------------------------------------\u001b[0m",
      "\u001b[0;31mKeyboardInterrupt\u001b[0m                         Traceback (most recent call last)",
      "\u001b[0;32m<ipython-input-3-9d9fdf7a0833>\u001b[0m in \u001b[0;36m<module>\u001b[0;34m()\u001b[0m\n\u001b[1;32m     13\u001b[0m                 \u001b[0;32myield\u001b[0m \u001b[0;34m[\u001b[0m\u001b[0;34m]\u001b[0m\u001b[0;34m\u001b[0m\u001b[0m\n\u001b[1;32m     14\u001b[0m \u001b[0;34m\u001b[0m\u001b[0m\n\u001b[0;32m---> 15\u001b[0;31m \u001b[0mcorpora\u001b[0m\u001b[0;34m.\u001b[0m\u001b[0mMmCorpus\u001b[0m\u001b[0;34m.\u001b[0m\u001b[0mserialize\u001b[0m\u001b[0;34m(\u001b[0m\u001b[0;34m'../result/{}/corpus.mm'\u001b[0m\u001b[0;34m.\u001b[0m\u001b[0mformat\u001b[0m \u001b[0;34m(\u001b[0m\u001b[0mTRY_NAME\u001b[0m\u001b[0;34m)\u001b[0m\u001b[0;34m,\u001b[0m \u001b[0mdoc_reader\u001b[0m \u001b[0;34m(\u001b[0m\u001b[0mtitle\u001b[0m\u001b[0;34m)\u001b[0m\u001b[0;34m)\u001b[0m\u001b[0;34m\u001b[0m\u001b[0m\n\u001b[0m\u001b[1;32m     16\u001b[0m \u001b[0;34m\u001b[0m\u001b[0m\n\u001b[1;32m     17\u001b[0m \u001b[0;32mimport\u001b[0m \u001b[0mgensim\u001b[0m \u001b[0;32mas\u001b[0m \u001b[0mgs\u001b[0m\u001b[0;34m\u001b[0m\u001b[0m\n",
      "\u001b[0;32m/home/mikhail.belozerov/.local/lib/python2.7/site-packages/gensim/corpora/indexedcorpus.pyc\u001b[0m in \u001b[0;36mserialize\u001b[0;34m(serializer, fname, corpus, id2word, index_fname, progress_cnt, labels, metadata)\u001b[0m\n\u001b[1;32m    115\u001b[0m             \u001b[0mkwargs\u001b[0m\u001b[0;34m[\u001b[0m\u001b[0;34m'labels'\u001b[0m\u001b[0;34m]\u001b[0m \u001b[0;34m=\u001b[0m \u001b[0mlabels\u001b[0m\u001b[0;34m\u001b[0m\u001b[0m\n\u001b[1;32m    116\u001b[0m \u001b[0;34m\u001b[0m\u001b[0m\n\u001b[0;32m--> 117\u001b[0;31m         \u001b[0moffsets\u001b[0m \u001b[0;34m=\u001b[0m \u001b[0mserializer\u001b[0m\u001b[0;34m.\u001b[0m\u001b[0msave_corpus\u001b[0m\u001b[0;34m(\u001b[0m\u001b[0mfname\u001b[0m\u001b[0;34m,\u001b[0m \u001b[0mcorpus\u001b[0m\u001b[0;34m,\u001b[0m \u001b[0mid2word\u001b[0m\u001b[0;34m,\u001b[0m \u001b[0;34m**\u001b[0m\u001b[0mkwargs\u001b[0m\u001b[0;34m)\u001b[0m\u001b[0;34m\u001b[0m\u001b[0m\n\u001b[0m\u001b[1;32m    118\u001b[0m \u001b[0;34m\u001b[0m\u001b[0m\n\u001b[1;32m    119\u001b[0m         \u001b[0;32mif\u001b[0m \u001b[0moffsets\u001b[0m \u001b[0;32mis\u001b[0m \u001b[0mNone\u001b[0m\u001b[0;34m:\u001b[0m\u001b[0;34m\u001b[0m\u001b[0m\n",
      "\u001b[0;32m/home/mikhail.belozerov/.local/lib/python2.7/site-packages/gensim/corpora/mmcorpus.pyc\u001b[0m in \u001b[0;36msave_corpus\u001b[0;34m(fname, corpus, id2word, progress_cnt, metadata)\u001b[0m\n\u001b[1;32m    119\u001b[0m         \u001b[0mnum_terms\u001b[0m \u001b[0;34m=\u001b[0m \u001b[0mlen\u001b[0m\u001b[0;34m(\u001b[0m\u001b[0mid2word\u001b[0m\u001b[0;34m)\u001b[0m \u001b[0;32mif\u001b[0m \u001b[0mid2word\u001b[0m \u001b[0;32mis\u001b[0m \u001b[0;32mnot\u001b[0m \u001b[0mNone\u001b[0m \u001b[0;32melse\u001b[0m \u001b[0mNone\u001b[0m\u001b[0;34m\u001b[0m\u001b[0m\n\u001b[1;32m    120\u001b[0m         return matutils.MmWriter.write_corpus(\n\u001b[0;32m--> 121\u001b[0;31m             \u001b[0mfname\u001b[0m\u001b[0;34m,\u001b[0m \u001b[0mcorpus\u001b[0m\u001b[0;34m,\u001b[0m \u001b[0mnum_terms\u001b[0m\u001b[0;34m=\u001b[0m\u001b[0mnum_terms\u001b[0m\u001b[0;34m,\u001b[0m \u001b[0mindex\u001b[0m\u001b[0;34m=\u001b[0m\u001b[0mTrue\u001b[0m\u001b[0;34m,\u001b[0m \u001b[0mprogress_cnt\u001b[0m\u001b[0;34m=\u001b[0m\u001b[0mprogress_cnt\u001b[0m\u001b[0;34m,\u001b[0m \u001b[0mmetadata\u001b[0m\u001b[0;34m=\u001b[0m\u001b[0mmetadata\u001b[0m\u001b[0;34m\u001b[0m\u001b[0m\n\u001b[0m\u001b[1;32m    122\u001b[0m         )\n",
      "\u001b[0;32m/home/mikhail.belozerov/.local/lib/python2.7/site-packages/gensim/matutils.pyc\u001b[0m in \u001b[0;36mwrite_corpus\u001b[0;34m(fname, corpus, progress_cnt, index, num_terms, metadata)\u001b[0m\n\u001b[1;32m   1325\u001b[0m                 \u001b[0moffsets\u001b[0m\u001b[0;34m.\u001b[0m\u001b[0mappend\u001b[0m\u001b[0;34m(\u001b[0m\u001b[0mposnow\u001b[0m\u001b[0;34m)\u001b[0m\u001b[0;34m\u001b[0m\u001b[0m\n\u001b[1;32m   1326\u001b[0m                 \u001b[0mposlast\u001b[0m \u001b[0;34m=\u001b[0m \u001b[0mposnow\u001b[0m\u001b[0;34m\u001b[0m\u001b[0m\n\u001b[0;32m-> 1327\u001b[0;31m             \u001b[0mmax_id\u001b[0m\u001b[0;34m,\u001b[0m \u001b[0mveclen\u001b[0m \u001b[0;34m=\u001b[0m \u001b[0mmw\u001b[0m\u001b[0;34m.\u001b[0m\u001b[0mwrite_vector\u001b[0m\u001b[0;34m(\u001b[0m\u001b[0mdocno\u001b[0m\u001b[0;34m,\u001b[0m \u001b[0mbow\u001b[0m\u001b[0;34m)\u001b[0m\u001b[0;34m\u001b[0m\u001b[0m\n\u001b[0m\u001b[1;32m   1328\u001b[0m             \u001b[0m_num_terms\u001b[0m \u001b[0;34m=\u001b[0m \u001b[0mmax\u001b[0m\u001b[0;34m(\u001b[0m\u001b[0m_num_terms\u001b[0m\u001b[0;34m,\u001b[0m \u001b[0;36m1\u001b[0m \u001b[0;34m+\u001b[0m \u001b[0mmax_id\u001b[0m\u001b[0;34m)\u001b[0m\u001b[0;34m\u001b[0m\u001b[0m\n\u001b[1;32m   1329\u001b[0m             \u001b[0mnum_nnz\u001b[0m \u001b[0;34m+=\u001b[0m \u001b[0mveclen\u001b[0m\u001b[0;34m\u001b[0m\u001b[0m\n",
      "\u001b[0;32m/home/mikhail.belozerov/.local/lib/python2.7/site-packages/gensim/matutils.pyc\u001b[0m in \u001b[0;36mwrite_vector\u001b[0;34m(self, docno, vector)\u001b[0m\n\u001b[1;32m   1258\u001b[0m         \u001b[0;32mfor\u001b[0m \u001b[0mtermid\u001b[0m\u001b[0;34m,\u001b[0m \u001b[0mweight\u001b[0m \u001b[0;32min\u001b[0m \u001b[0mvector\u001b[0m\u001b[0;34m:\u001b[0m  \u001b[0;31m# write term ids in sorted order\u001b[0m\u001b[0;34m\u001b[0m\u001b[0m\n\u001b[1;32m   1259\u001b[0m             \u001b[0;31m# +1 because MM format starts counting from 1\u001b[0m\u001b[0;34m\u001b[0m\u001b[0;34m\u001b[0m\u001b[0m\n\u001b[0;32m-> 1260\u001b[0;31m             \u001b[0mself\u001b[0m\u001b[0;34m.\u001b[0m\u001b[0mfout\u001b[0m\u001b[0;34m.\u001b[0m\u001b[0mwrite\u001b[0m\u001b[0;34m(\u001b[0m\u001b[0mutils\u001b[0m\u001b[0;34m.\u001b[0m\u001b[0mto_utf8\u001b[0m\u001b[0;34m(\u001b[0m\u001b[0;34m\"%i %i %s\\n\"\u001b[0m \u001b[0;34m%\u001b[0m \u001b[0;34m(\u001b[0m\u001b[0mdocno\u001b[0m \u001b[0;34m+\u001b[0m \u001b[0;36m1\u001b[0m\u001b[0;34m,\u001b[0m \u001b[0mtermid\u001b[0m \u001b[0;34m+\u001b[0m \u001b[0;36m1\u001b[0m\u001b[0;34m,\u001b[0m \u001b[0mweight\u001b[0m\u001b[0;34m)\u001b[0m\u001b[0;34m)\u001b[0m\u001b[0;34m)\u001b[0m\u001b[0;34m\u001b[0m\u001b[0m\n\u001b[0m\u001b[1;32m   1261\u001b[0m         \u001b[0mself\u001b[0m\u001b[0;34m.\u001b[0m\u001b[0mlast_docno\u001b[0m \u001b[0;34m=\u001b[0m \u001b[0mdocno\u001b[0m\u001b[0;34m\u001b[0m\u001b[0m\n\u001b[1;32m   1262\u001b[0m         \u001b[0;32mreturn\u001b[0m \u001b[0;34m(\u001b[0m\u001b[0mvector\u001b[0m\u001b[0;34m[\u001b[0m\u001b[0;34m-\u001b[0m\u001b[0;36m1\u001b[0m\u001b[0;34m]\u001b[0m\u001b[0;34m[\u001b[0m\u001b[0;36m0\u001b[0m\u001b[0;34m]\u001b[0m\u001b[0;34m,\u001b[0m \u001b[0mlen\u001b[0m\u001b[0;34m(\u001b[0m\u001b[0mvector\u001b[0m\u001b[0;34m)\u001b[0m\u001b[0;34m)\u001b[0m \u001b[0;32mif\u001b[0m \u001b[0mvector\u001b[0m \u001b[0;32melse\u001b[0m \u001b[0;34m(\u001b[0m\u001b[0;34m-\u001b[0m\u001b[0;36m1\u001b[0m\u001b[0;34m,\u001b[0m \u001b[0;36m0\u001b[0m\u001b[0;34m)\u001b[0m\u001b[0;34m\u001b[0m\u001b[0m\n",
      "\u001b[0;32m/home/mikhail.belozerov/.local/lib/python2.7/site-packages/gensim/utils.pyc\u001b[0m in \u001b[0;36many2utf8\u001b[0;34m(text, errors, encoding)\u001b[0m\n\u001b[1;32m    331\u001b[0m         \u001b[0;32mreturn\u001b[0m \u001b[0mtext\u001b[0m\u001b[0;34m.\u001b[0m\u001b[0mencode\u001b[0m\u001b[0;34m(\u001b[0m\u001b[0;34m'utf8'\u001b[0m\u001b[0;34m)\u001b[0m\u001b[0;34m\u001b[0m\u001b[0m\n\u001b[1;32m    332\u001b[0m     \u001b[0;31m# do bytestring -> unicode -> utf8 full circle, to ensure valid utf8\u001b[0m\u001b[0;34m\u001b[0m\u001b[0;34m\u001b[0m\u001b[0m\n\u001b[0;32m--> 333\u001b[0;31m     \u001b[0;32mreturn\u001b[0m \u001b[0municode\u001b[0m\u001b[0;34m(\u001b[0m\u001b[0mtext\u001b[0m\u001b[0;34m,\u001b[0m \u001b[0mencoding\u001b[0m\u001b[0;34m,\u001b[0m \u001b[0merrors\u001b[0m\u001b[0;34m=\u001b[0m\u001b[0merrors\u001b[0m\u001b[0;34m)\u001b[0m\u001b[0;34m.\u001b[0m\u001b[0mencode\u001b[0m\u001b[0;34m(\u001b[0m\u001b[0;34m'utf8'\u001b[0m\u001b[0;34m)\u001b[0m\u001b[0;34m\u001b[0m\u001b[0m\n\u001b[0m\u001b[1;32m    334\u001b[0m \u001b[0;34m\u001b[0m\u001b[0m\n\u001b[1;32m    335\u001b[0m \u001b[0;34m\u001b[0m\u001b[0m\n",
      "\u001b[0;32m/usr/lib64/python2.7/encodings/utf_8.pyc\u001b[0m in \u001b[0;36mdecode\u001b[0;34m(input, errors)\u001b[0m\n\u001b[1;32m     14\u001b[0m \u001b[0;34m\u001b[0m\u001b[0m\n\u001b[1;32m     15\u001b[0m \u001b[0;32mdef\u001b[0m \u001b[0mdecode\u001b[0m\u001b[0;34m(\u001b[0m\u001b[0minput\u001b[0m\u001b[0;34m,\u001b[0m \u001b[0merrors\u001b[0m\u001b[0;34m=\u001b[0m\u001b[0;34m'strict'\u001b[0m\u001b[0;34m)\u001b[0m\u001b[0;34m:\u001b[0m\u001b[0;34m\u001b[0m\u001b[0m\n\u001b[0;32m---> 16\u001b[0;31m     \u001b[0;32mreturn\u001b[0m \u001b[0mcodecs\u001b[0m\u001b[0;34m.\u001b[0m\u001b[0mutf_8_decode\u001b[0m\u001b[0;34m(\u001b[0m\u001b[0minput\u001b[0m\u001b[0;34m,\u001b[0m \u001b[0merrors\u001b[0m\u001b[0;34m,\u001b[0m \u001b[0mTrue\u001b[0m\u001b[0;34m)\u001b[0m\u001b[0;34m\u001b[0m\u001b[0m\n\u001b[0m\u001b[1;32m     17\u001b[0m \u001b[0;34m\u001b[0m\u001b[0m\n\u001b[1;32m     18\u001b[0m \u001b[0;32mclass\u001b[0m \u001b[0mIncrementalEncoder\u001b[0m\u001b[0;34m(\u001b[0m\u001b[0mcodecs\u001b[0m\u001b[0;34m.\u001b[0m\u001b[0mIncrementalEncoder\u001b[0m\u001b[0;34m)\u001b[0m\u001b[0;34m:\u001b[0m\u001b[0;34m\u001b[0m\u001b[0m\n",
      "\u001b[0;31mKeyboardInterrupt\u001b[0m: "
     ]
    }
   ],
   "source": [
    "result = np.zeros ((q_size, corp_size))\n",
    "\n",
    "for doc_i, doc in tqdm.tqdm (enumerate (corpus)):\n",
    "    doc = dict (doc)\n",
    "    doc_keys = set (doc)\n",
    "    doc_len = sum (doc.itervalues ())\n",
    "    for q_i, q in enumerate (queries):\n",
    "        score = 0\n",
    "        for word in set (q.keys ()) & doc_keys:\n",
    "            idf = idfs[word]\n",
    "            score += (idf * doc[word] * (PARAM_K1 + 1)\n",
    "                      / (doc[word] + PARAM_K1 * (1 - PARAM_B + PARAM_B * doc_len / avgdl)))\n",
    "        result[q_i, doc_i] = score\n",
    "\n",
    "with open (\"../result/result_{}.csv\".format (TRY_NAME), \"w\") as fout:\n",
    "    fout.write (\"QueryId,DocumentId\\n\")\n",
    "    \n",
    "    for q_num, qid in tqdm.tqdm (enumerate (q_ids)):\n",
    "        for doc in np.argsort (result[q_num, :])[-5:][::-1]:\n",
    "            fout.write (\"{},{}\\n\".format (qid, doc))\n",
    "\n",
    "np.save (open (\"../result/{}/ranking.npy\".format (TRY_NAME), \"wb\"), result)"
   ]
  },
  {
   "cell_type": "code",
   "execution_count": null,
   "metadata": {},
   "outputs": [],
   "source": [
    "for item in dct_title.items ():\n",
    "    print item[1]"
   ]
  },
  {
   "cell_type": "code",
   "execution_count": null,
   "metadata": {},
   "outputs": [],
   "source": [
    "q_ids = []\n",
    "queries = []\n",
    "with open (\"../data/queries.tsv\") as fin:\n",
    "    for q in fin:\n",
    "        q = q.strip ().decode (\"utf-8\").lower ().split (\"\\t\")\n",
    "        q_ids.append (int (q[0]))\n",
    "        print ''.join (stemmer.lemmatize (q[1]))\n",
    "        queries.append (dict (dct_title.doc2bow (stemmer.lemmatize (q[1]))))"
   ]
  },
  {
   "cell_type": "code",
   "execution_count": null,
   "metadata": {},
   "outputs": [],
   "source": []
  }
 ],
 "metadata": {
  "kernelspec": {
   "display_name": "Python 3",
   "language": "python",
   "name": "python3"
  },
  "language_info": {
   "codemirror_mode": {
    "name": "ipython",
    "version": 2
   },
   "file_extension": ".py",
   "mimetype": "text/x-python",
   "name": "python",
   "nbconvert_exporter": "python",
   "pygments_lexer": "ipython2",
   "version": "2.7.14"
  }
 },
 "nbformat": 4,
 "nbformat_minor": 2
}
