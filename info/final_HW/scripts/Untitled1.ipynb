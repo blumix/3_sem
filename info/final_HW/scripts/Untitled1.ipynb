{
 "cells": [
  {
   "cell_type": "code",
   "execution_count": 1,
   "metadata": {},
   "outputs": [],
   "source": [
    "from gensim.corpora import Dictionary\n",
    "import tqdm\n",
    "import sys\n",
    "from gensim import corpora\n",
    "from gensim import corpora, models, similarities\n",
    "import numpy as np\n",
    "from gensim.summarization.bm25 import get_bm25_weights\n",
    "from gensim.summarization.bm25 import BM25\n",
    "import logging\n",
    "logging.basicConfig(format='%(asctime)s : %(levelname)s : %(message)s', level=logging.INFO)"
   ]
  },
  {
   "cell_type": "code",
   "execution_count": null,
   "metadata": {},
   "outputs": [],
   "source": [
    "dct_title = Dictionary(prune_at=None)\n",
    "# dct_body = Dictionary(prune_at=None)"
   ]
  },
  {
   "cell_type": "code",
   "execution_count": null,
   "metadata": {},
   "outputs": [],
   "source": [
    "with open (\"../data/docs.tsv\") as fin:\n",
    "    for doc in tqdm.tqdm_notebook (fin):\n",
    "        doc = doc.strip ().split(\"\\t\")[1:]\n",
    "        \n",
    "        if len (doc) > 0:\n",
    "            dct_title.add_documents ([doc[0].split (\" \")], prune_at=None)\n",
    "        if len (doc) > 1:\n",
    "            dct_body.add_documents ([doc[1].split (\" \")], prune_at=None)"
   ]
  },
  {
   "cell_type": "code",
   "execution_count": null,
   "metadata": {},
   "outputs": [],
   "source": [
    "dct_title.save (\"../result/dct_title.dump\")\n",
    "dct_body.save (\"../result/dct_body.dump\")"
   ]
  },
  {
   "cell_type": "code",
   "execution_count": null,
   "metadata": {},
   "outputs": [],
   "source": [
    "dct_title = dct_title.load (\"../result/dct_title.dump\")"
   ]
  },
  {
   "cell_type": "code",
   "execution_count": null,
   "metadata": {},
   "outputs": [],
   "source": [
    "def doc_reader (title):\n",
    "    doc_num = 0 if title else 1\n",
    "    \n",
    "    dct = Dictionary(prune_at=None)\n",
    "    dct = dct.load (\"../result/dct_{}.dump\".format (\"title\" if title else \"body\"))\n",
    "    \n",
    "    with open (\"../data/docs.tsv\") as fin:\n",
    "        for i, doc in enumerate (fin):\n",
    "            doc = doc.strip ().split(\"\\t\")[1:]\n",
    "            if len (doc) > doc_num:\n",
    "                yield dct.doc2bow(doc[doc_num].split (\" \"))\n",
    "            else:\n",
    "                yield []"
   ]
  },
  {
   "cell_type": "code",
   "execution_count": null,
   "metadata": {},
   "outputs": [],
   "source": [
    "corpora.MmCorpus.serialize('../result/corpus_title_only.mm', doc_reader (title=True))"
   ]
  },
  {
   "cell_type": "code",
   "execution_count": null,
   "metadata": {},
   "outputs": [],
   "source": [
    "corpus = corpora.MmCorpus('../result/corpus_title_only.mm')"
   ]
  },
  {
   "cell_type": "code",
   "execution_count": null,
   "metadata": {},
   "outputs": [],
   "source": [
    "bm25 = BM25 (corpus)"
   ]
  },
  {
   "cell_type": "code",
   "execution_count": null,
   "metadata": {},
   "outputs": [],
   "source": [
    "queries = {}\n",
    "with open (\"../data/queries.tsv\") as fin:\n",
    "    for q in fin:\n",
    "        q = q.strip ().decode (\"utf-8\").upper ().split (\"\\t\")\n",
    "        queries[int (q[0])] = dct_title.doc2bow (q[1].split ())"
   ]
  },
  {
   "cell_type": "code",
   "execution_count": null,
   "metadata": {},
   "outputs": [],
   "source": [
    "with open (\"../result/result_bm25_aver_0_try_0.csv\", \"w\") as fout:\n",
    "    fout.write (\"QueryId,DocumentId\\n\")\n",
    "    \n",
    "    for key in tqdm.tqdm (sorted (queries.iterkeys ())):\n",
    "        for doc in np.argsort (bm25.get_scores(queries[key], 0))[-5:][::-1]:\n",
    "            fout.write (\"{},{}\\n\".format (key, doc))"
   ]
  },
  {
   "cell_type": "markdown",
   "metadata": {},
   "source": [
    "\n",
    "\n",
    "\n",
    "# body\n",
    "\n",
    "\n"
   ]
  },
  {
   "cell_type": "code",
   "execution_count": null,
   "metadata": {
    "scrolled": true
   },
   "outputs": [],
   "source": [
    "corpora.MmCorpus.serialize('../result/corpus_body_only.mm', doc_reader (title=False))"
   ]
  },
  {
   "cell_type": "code",
   "execution_count": null,
   "metadata": {},
   "outputs": [],
   "source": [
    "corpus = corpora.MmCorpus('../result/corpus_body_only.mm')"
   ]
  },
  {
   "cell_type": "code",
   "execution_count": null,
   "metadata": {},
   "outputs": [],
   "source": [
    "for doc in corpus:\n",
    "    for rowd in doc:\n",
    "        print rowd\n",
    "    break"
   ]
  },
  {
   "cell_type": "code",
   "execution_count": null,
   "metadata": {
    "scrolled": true
   },
   "outputs": [],
   "source": [
    "bm25 = BM25 (corpus)"
   ]
  },
  {
   "cell_type": "code",
   "execution_count": null,
   "metadata": {},
   "outputs": [],
   "source": [
    "def reqd_queries (title):\n",
    "    queries = {}\n",
    "    with open (\"../data/queries.tsv\") as fin:\n",
    "        dct = dct_title.load (\"../result/dct_{}.dump\".format (\"title\" if title else \"body\"))\n",
    "        for q in fin:\n",
    "            q = q.strip ().decode (\"utf-8\").upper ().split (\"\\t\")\n",
    "            queries[int (q[0])] = dct.doc2bow (q[1].split ())\n",
    "        return queries"
   ]
  },
  {
   "cell_type": "code",
   "execution_count": null,
   "metadata": {},
   "outputs": [],
   "source": [
    "with open (\"../result/result_bm25_aver_0_try_0_body.csv\", \"w\") as fout:\n",
    "    fout.write (\"QueryId,DocumentId\\n\")\n",
    "    \n",
    "    for key in tqdm.tqdm (sorted (reqd_queries(False).iterkeys ())):\n",
    "        for doc in np.argsort (bm25.get_scores(queries[key], 0))[-5:][::-1]:\n",
    "            fout.write (\"{},{}\\n\".format (key, doc))"
   ]
  },
  {
   "cell_type": "markdown",
   "metadata": {},
   "source": [
    "# bm25"
   ]
  },
  {
   "cell_type": "code",
   "execution_count": null,
   "metadata": {},
   "outputs": [],
   "source": [
    "import math"
   ]
  },
  {
   "cell_type": "code",
   "execution_count": null,
   "metadata": {},
   "outputs": [],
   "source": [
    "PARAM_K1 = 1.5\n",
    "PARAM_B = 0.75\n",
    "EPSILON = 0.25\n",
    "\n",
    "\n",
    "class BM25(object):\n",
    "    \"\"\"Implementation of Best Matching 25 ranking function.\n",
    "\n",
    "    Attributes\n",
    "    ----------\n",
    "    corpus_size : int\n",
    "        Size of corpus (number of documents).\n",
    "    avgdl : float\n",
    "        Average length of document in `corpus`.\n",
    "    corpus : list of list of str\n",
    "        Corpus of documents.\n",
    "    f : list of dicts of int\n",
    "        Dictionary with terms frequencies for each document in `corpus`. Words used as keys and frequencies as values.\n",
    "    df : dict\n",
    "        Dictionary with terms frequencies for whole `corpus`. Words used as keys and frequencies as values.\n",
    "    idf : dict\n",
    "        Dictionary with inversed terms frequencies for whole `corpus`. Words used as keys and frequencies as values.\n",
    "    doc_len : list of int\n",
    "        List of document lengths.\n",
    "    \"\"\"\n",
    "\n",
    "    def __init__(self, corpus):\n",
    "        \"\"\"\n",
    "        Parameters\n",
    "        ----------\n",
    "        corpus : list of list of str\n",
    "            Given corpus.\n",
    "\n",
    "        \"\"\"\n",
    "        self.corpus_size = len(corpus)\n",
    "        self.corpus = corpus\n",
    "        self.df = {}\n",
    "        self.idf = {}\n",
    "        self.doc_len = []\n",
    "        self.initialize()\n",
    "\n",
    "    def initialize(self):\n",
    "        \"\"\"Calculates frequencies of terms in documents and in corpus. Also computes inverse document frequencies.\"\"\"\n",
    "        len___my = 0\n",
    "        for document in tqdm.tqdm (self.corpus):\n",
    "            document = dict (document)\n",
    "            \n",
    "            doc_len = sum (document.itervalues ())\n",
    "            self.doc_len.append(doc_len)\n",
    "\n",
    "            for word, freq in document.iteritems ():\n",
    "                if word not in self.df:\n",
    "                    self.df[word] = 0\n",
    "                self.df[word] += 1\n",
    "    \n",
    "\n",
    "        self.avgdl = float (sum (self.doc_len)) / self.corpus_size\n",
    "        \n",
    "        for word, freq in self.df.iteritems ():\n",
    "            self.idf[word] = math.log(self.corpus_size - freq + 0.5) - math.log(freq + 0.5)\n",
    "            \n",
    "\n",
    "    def get_score(self, document, corp_doc, index, average_idf):\n",
    "        \"\"\"Computes BM25 score of given `document` in relation to item of corpus selected by `index`.\n",
    "\n",
    "        Parameters\n",
    "        ----------\n",
    "        document : list of str\n",
    "            Document to be scored.\n",
    "        index : int\n",
    "            Index of document in corpus selected to score with `document`.\n",
    "        average_idf : float\n",
    "            Average idf in corpus.\n",
    "\n",
    "        Returns\n",
    "        -------\n",
    "        float\n",
    "            BM25 score.\n",
    "\n",
    "        \"\"\"\n",
    "        score = 0\n",
    "        for key in set (document.keys ()) & set (corp_doc.keys ()):\n",
    "            idf = self.idf[key] if self.idf[key] >= 0 else EPSILON * average_idf\n",
    "            score += (idf * corp_doc[key] * (PARAM_K1 + 1)\n",
    "                      / (corp_doc[key] + PARAM_K1 * (1 - PARAM_B + PARAM_B * self.doc_len[index] / self.avgdl)))\n",
    "        return score\n",
    "\n",
    "    def get_scores(self, document, average_idf):\n",
    "        \"\"\"Computes and returns BM25 scores of given `document` in relation to\n",
    "        every item in corpus.\n",
    "\n",
    "        Parameters\n",
    "        ----------\n",
    "        document : list of str\n",
    "            Document to be scored.\n",
    "        average_idf : float\n",
    "            Average idf in corpus.\n",
    "\n",
    "        Returns\n",
    "        -------\n",
    "        list of float\n",
    "            BM25 scores.\n",
    "\n",
    "        \"\"\"\n",
    "        document = dict(document)\n",
    "        scores = []\n",
    "        for doc_num, corp_doc in enumerate (self.corpus):\n",
    "            score = self.get_score(document, dict (corp_doc), doc_num, average_idf)\n",
    "            scores.append(score)\n",
    "        return scores\n"
   ]
  },
  {
   "cell_type": "code",
   "execution_count": null,
   "metadata": {},
   "outputs": [],
   "source": [
    "bm25 = BM25 (corpus)"
   ]
  },
  {
   "cell_type": "code",
   "execution_count": null,
   "metadata": {},
   "outputs": [],
   "source": [
    "with open (\"../result/result_bm25_aver_0_try_0_title_self.csv\", \"w\") as fout:\n",
    "    fout.write (\"QueryId,DocumentId\\n\")\n",
    "    \n",
    "    for key in tqdm.tqdm (sorted (queries.iterkeys ())):\n",
    "        for doc in np.argsort (bm25.get_scores(queries[key], 0))[-5:][::-1]:\n",
    "            fout.write (\"{},{}\\n\".format (key, doc))"
   ]
  },
  {
   "cell_type": "code",
   "execution_count": null,
   "metadata": {},
   "outputs": [],
   "source": [
    "queries = reqd_queries (True)"
   ]
  },
  {
   "cell_type": "code",
   "execution_count": null,
   "metadata": {},
   "outputs": [],
   "source": [
    "def reqd_queries (title):\n",
    "    queries = {}\n",
    "    with open (\"../data/queries.tsv\") as fin:\n",
    "        dct = dct_title.load (\"../result/dct_{}.dump\".format (\"title\" if title else \"body\"))\n",
    "        for q in fin:\n",
    "            q = q.strip ().decode (\"utf-8\").upper ().split (\"\\t\")\n",
    "            queries[int (q[0])] = dct.doc2bow (q[1].split ())\n",
    "        return queries"
   ]
  },
  {
   "cell_type": "code",
   "execution_count": null,
   "metadata": {},
   "outputs": [],
   "source": []
  },
  {
   "cell_type": "code",
   "execution_count": null,
   "metadata": {},
   "outputs": [],
   "source": []
  },
  {
   "cell_type": "code",
   "execution_count": null,
   "metadata": {},
   "outputs": [],
   "source": []
  },
  {
   "cell_type": "markdown",
   "metadata": {},
   "source": [
    "# bmtry"
   ]
  },
  {
   "cell_type": "code",
   "execution_count": 5,
   "metadata": {},
   "outputs": [],
   "source": [
    "def doc_reader (title):\n",
    "    doc_num = 0 if title else 1\n",
    "    \n",
    "    with open (\"../data/docs.tsv\") as fin:\n",
    "        for i, doc in tqdm.tqdm (enumerate (fin)):\n",
    "            doc = doc.strip ().split(\"\\t\")[1:]\n",
    "            if len (doc) > doc_num:\n",
    "                yield doc[doc_num].split (\" \")\n",
    "            else:\n",
    "                yield []"
   ]
  },
  {
   "cell_type": "code",
   "execution_count": 6,
   "metadata": {},
   "outputs": [
    {
     "name": "stderr",
     "output_type": "stream",
     "text": [
      "582167it [10:10, 953.08it/s]\n"
     ]
    }
   ],
   "source": [
    "bm25 = BM25 (list (doc_reader (True)))"
   ]
  },
  {
   "cell_type": "code",
   "execution_count": 7,
   "metadata": {},
   "outputs": [],
   "source": [
    "def read_queries (title):\n",
    "    queries = {}\n",
    "    with open (\"../data/queries.tsv\") as fin:\n",
    "        \n",
    "        for q in fin:\n",
    "            q = q.strip ().decode (\"utf-8\").upper ().split (\"\\t\")\n",
    "            queries[int (q[0])] = q[1].split ()\n",
    "        return queries"
   ]
  },
  {
   "cell_type": "code",
   "execution_count": 9,
   "metadata": {},
   "outputs": [],
   "source": [
    "queries = read_queries (True)"
   ]
  },
  {
   "cell_type": "code",
   "execution_count": 10,
   "metadata": {},
   "outputs": [
    {
     "name": "stderr",
     "output_type": "stream",
     "text": [
      "100%|██████████| 6311/6311 [46:58<00:00,  2.24it/s]\n"
     ]
    }
   ],
   "source": [
    "with open (\"../result/result_bm25_aver_0_try_0_title_self.csv\", \"w\") as fout:\n",
    "    fout.write (\"QueryId,DocumentId\\n\")\n",
    "    \n",
    "    for key in tqdm.tqdm (sorted (queries.iterkeys ())):\n",
    "        for doc in np.argsort (bm25.get_scores(queries[key], 0))[-5:][::-1]:\n",
    "            fout.write (\"{},{}\\n\".format (key, doc))"
   ]
  },
  {
   "cell_type": "code",
   "execution_count": null,
   "metadata": {},
   "outputs": [],
   "source": []
  }
 ],
 "metadata": {
  "kernelspec": {
   "display_name": "Python 3",
   "language": "python",
   "name": "python3"
  },
  "language_info": {
   "codemirror_mode": {
    "name": "ipython",
    "version": 2
   },
   "file_extension": ".py",
   "mimetype": "text/x-python",
   "name": "python",
   "nbconvert_exporter": "python",
   "pygments_lexer": "ipython2",
   "version": "2.7.14"
  }
 },
 "nbformat": 4,
 "nbformat_minor": 2
}
