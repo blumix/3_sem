{
 "cells": [
  {
   "cell_type": "code",
   "execution_count": null,
   "metadata": {},
   "outputs": [],
   "source": [
    "from gensim.corpora import Dictionary\n",
    "import tqdm\n",
    "import sys\n",
    "from gensim import corpora\n",
    "from gensim import corpora, models, similarities\n",
    "import numpy as np\n",
    "import logging\n",
    "logging.basicConfig(format='%(asctime)s : %(levelname)s : %(message)s', level=logging.INFO)"
   ]
  },
  {
   "cell_type": "code",
   "execution_count": null,
   "metadata": {},
   "outputs": [],
   "source": [
    "dct = Dictionary(prune_at=None)"
   ]
  },
  {
   "cell_type": "code",
   "execution_count": null,
   "metadata": {},
   "outputs": [],
   "source": [
    "with open (\"../data/docs.tsv\") as fin:\n",
    "    for i, doc in enumerate (fin):\n",
    "        doc = doc.strip ().split(\"\\t\")[1:]\n",
    "        for d in doc:\n",
    "            dct.add_documents ([d.split (\" \")], prune_at=None)\n",
    "            \n",
    "        if i % 10000 == 0:\n",
    "            sys.stdout.write (\"\\r {}\". format (i))"
   ]
  },
  {
   "cell_type": "code",
   "execution_count": null,
   "metadata": {},
   "outputs": [],
   "source": [
    "dct = dct.load (\"../result/dct.dump\")"
   ]
  },
  {
   "cell_type": "code",
   "execution_count": null,
   "metadata": {},
   "outputs": [],
   "source": [
    "queries = {}\n",
    "with open (\"../data/queries.tsv\") as fin:\n",
    "    for q in fin:\n",
    "        q = q.strip ().decode (\"utf-8\").upper ().split (\"\\t\")\n",
    "        queries[int (q[0])] = dct.doc2bow (q[1].split ())"
   ]
  },
  {
   "cell_type": "code",
   "execution_count": null,
   "metadata": {},
   "outputs": [],
   "source": [
    "def doc_reader (title):\n",
    "    doc_num = 0 if title else 1\n",
    "    \n",
    "    with open (\"../data/docs.tsv\") as fin:\n",
    "        for i, doc in enumerate (fin):\n",
    "            doc = doc.strip ().split(\"\\t\")[1:]\n",
    "            if len (doc) > doc_num:\n",
    "                yield dct.doc2bow(doc[doc_num].split (\" \"))\n",
    "            else:\n",
    "                yield []"
   ]
  },
  {
   "cell_type": "code",
   "execution_count": null,
   "metadata": {
    "scrolled": false
   },
   "outputs": [],
   "source": [
    "corpora.MmCorpus.serialize('../result/corpus_body.mm', doc_reader (title=False))"
   ]
  },
  {
   "cell_type": "code",
   "execution_count": null,
   "metadata": {},
   "outputs": [],
   "source": [
    "corpus_body = corpora.MmCorpus('../result/corpus_body.mm')"
   ]
  },
  {
   "cell_type": "code",
   "execution_count": null,
   "metadata": {
    "scrolled": true
   },
   "outputs": [],
   "source": [
    "tfidf_body = models.TfidfModel(corpus_body)"
   ]
  },
  {
   "cell_type": "code",
   "execution_count": null,
   "metadata": {
    "scrolled": false
   },
   "outputs": [],
   "source": [
    "\n",
    "\n",
    "index_body = similarities.SparseMatrixSimilarity(tfidf_body[corpus_body], num_features=29240842)\n",
    "\n",
    "with open (\"../result/result_2.csv\", \"w\") as fout:\n",
    "    fout.write (\"QueryId,DocumentId\\n\")\n",
    "    \n",
    "    for key in tqdm.tqdm (sorted (queries.iterkeys ())):\n",
    "        for doc in np.argsort (index_body[tfidf_body[queries_body[key]]])[-5:][::-1]:\n",
    "            fout.write (\"{},{}\\n\".format (key, doc))"
   ]
  },
  {
   "cell_type": "code",
   "execution_count": null,
   "metadata": {},
   "outputs": [],
   "source": [
    "from gensim.corpora.textcorpus import TextCorpus\n",
    "from gensim.test.utils import datapath, get_tmpfile\n",
    "from gensim.similarities import Similarity"
   ]
  },
  {
   "cell_type": "code",
   "execution_count": null,
   "metadata": {},
   "outputs": [],
   "source": [
    "index_temp = get_tmpfile(\"index\")"
   ]
  },
  {
   "cell_type": "code",
   "execution_count": null,
   "metadata": {
    "scrolled": false
   },
   "outputs": [],
   "source": [
    "index = Similarity(index_temp, tfidf_body[corpus_body], num_features=29240842)"
   ]
  },
  {
   "cell_type": "code",
   "execution_count": null,
   "metadata": {},
   "outputs": [],
   "source": [
    "with open (\"../result/result_3.csv\", \"w\") as fout:\n",
    "    fout.write (\"QueryId,DocumentId\\n\")\n",
    "    \n",
    "    for key in tqdm.tqdm (sorted (queries.iterkeys ())):\n",
    "        for doc in np.argsort (index[tfidf_body[queries[key]]])[-5:][::-1]:\n",
    "            fout.write (\"{},{}\\n\".format (key, doc))"
   ]
  },
  {
   "cell_type": "code",
   "execution_count": null,
   "metadata": {},
   "outputs": [],
   "source": []
  }
 ],
 "metadata": {
  "kernelspec": {
   "display_name": "Python 3",
   "language": "python",
   "name": "python3"
  },
  "language_info": {
   "codemirror_mode": {
    "name": "ipython",
    "version": 2
   },
   "file_extension": ".py",
   "mimetype": "text/x-python",
   "name": "python",
   "nbconvert_exporter": "python",
   "pygments_lexer": "ipython2",
   "version": "2.7.14"
  }
 },
 "nbformat": 4,
 "nbformat_minor": 2
}
