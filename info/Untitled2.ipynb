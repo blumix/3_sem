{
 "cells": [
  {
   "cell_type": "code",
   "execution_count": 15,
   "metadata": {},
   "outputs": [],
   "source": [
    "import gensim as gs\n",
    "import math\n",
    "import numpy as np\n",
    "\n",
    "PARAM_K1 = 1.5\n",
    "PARAM_B = 0.75\n",
    "EPSILON = 0.25\n",
    "\n",
    "corpus = [[\"máma\", \"mele\", \"maso\"], [\"ema\", \"má\", \"máma\"]]\n",
    "dct = gs.corpora.Dictionary(corpus)\n",
    "\n",
    "corp_size = 0\n",
    "corp_size_words = 0\n",
    "for doc in corpus:\n",
    "    corp_size_words += sum (doc.itervalues ())\n",
    "    corp_size += 1\n",
    "\n",
    "averdl = float (corp_size_words) / corp_size\n",
    "\n",
    "idfs = {}\n",
    "\n",
    "summ_idf = 0\n",
    "\n",
    "\n",
    "for word_id, freq in dct.dfs.iteritems ():\n",
    "    idfs[word_id] = math.log(corp_size - freq + 0.5) - math.log(freq + 0.5)\n",
    "    summ_idf += idfs[word_id]\n",
    "\n",
    "average_idf = summ_idf / len (dct.dfs)\n",
    "\n",
    "for id in idfs.iterkeys ():\n",
    "    idfs[id] = idfs[id] if idfs[id] >= 0 else EPSILON * average_idf\n",
    "\n",
    "reslut = np.zeros ((q_size, corp_size))\n",
    "\n",
    "\n",
    "\n",
    "for doc_i, doc in enumerate (corpa):\n",
    "    doc_keys = set (doc.keys())\n",
    "    doc_len = sum (doc.itervalues ())\n",
    "    for q_i, q in enumerate (queries):\n",
    "        score = 0\n",
    "        for word in set (q.keys ()) & doc_keys:\n",
    "            idf = idfs[word]\n",
    "            score += (idf * doc[word] * (PARAM_K1 + 1)\n",
    "                      / (doc[word] + PARAM_K1 * (1 - PARAM_B + PARAM_B * doc_len / avgdl)))\n",
    "        result[q_i, doc_i] = score"
   ]
  }
 ],
 "metadata": {
  "kernelspec": {
   "display_name": "Python 3",
   "language": "python",
   "name": "python3"
  },
  "language_info": {
   "codemirror_mode": {
    "name": "ipython",
    "version": 2
   },
   "file_extension": ".py",
   "mimetype": "text/x-python",
   "name": "python",
   "nbconvert_exporter": "python",
   "pygments_lexer": "ipython2",
   "version": "2.7.13"
  }
 },
 "nbformat": 4,
 "nbformat_minor": 2
}
