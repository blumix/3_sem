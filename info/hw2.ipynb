{
 "cells": [
  {
   "cell_type": "code",
   "execution_count": 1,
   "metadata": {},
   "outputs": [],
   "source": [
    "import numpy as np\n",
    "import sys"
   ]
  },
  {
   "cell_type": "code",
   "execution_count": 2,
   "metadata": {},
   "outputs": [],
   "source": [
    "def get_content (fname):\n",
    "    with open(fname) as f:\n",
    "        content = f.readlines()\n",
    "    return [x.split() for x in content] \n",
    "\n",
    "def has_clicks (x):\n",
    "    if all (c == '0' for c in x):\n",
    "        return 0\n",
    "    return 1\n",
    "    \n",
    "\n",
    "def get_ctr (x, num=1000):\n",
    "    ctr = []\n",
    "    count = len (x)/ num\n",
    "    for i in xrange (count):\n",
    "        cur_ctr = 0\n",
    "        for j in xrange (num):\n",
    "            cur_ctr += has_clicks (x[i * num + j])\n",
    "        ctr.append (float (cur_ctr) / num)\n",
    "    return np.array (ctr)\n",
    "\n",
    "def get_fclick (x, num=1000):\n",
    "    f_cl = []\n",
    "    count = len (x)/ num\n",
    "    for i in xrange (count):\n",
    "        cur_f_cl = 0\n",
    "        for j in xrange (num):\n",
    "            cur_f_cl += 1 if x[i * num + j][0] == '1' else 0\n",
    "        f_cl.append (float (cur_f_cl) / num)\n",
    "    return np.array (f_cl)"
   ]
  },
  {
   "cell_type": "code",
   "execution_count": 3,
   "metadata": {},
   "outputs": [],
   "source": [
    "f_1 = \"c1.txt\"\n",
    "f_2 = \"c2.txt\""
   ]
  },
  {
   "cell_type": "code",
   "execution_count": 4,
   "metadata": {},
   "outputs": [],
   "source": [
    "cont_1, cont_2 = get_content (f_1), get_content (f_2)"
   ]
  },
  {
   "cell_type": "code",
   "execution_count": 5,
   "metadata": {},
   "outputs": [],
   "source": [
    "ctr_1, ctr_2 = get_ctr (cont_1), get_ctr (cont_2)"
   ]
  },
  {
   "cell_type": "code",
   "execution_count": 6,
   "metadata": {},
   "outputs": [],
   "source": [
    "f_cl_1, f_cl_2 = get_fclick (cont_1), get_fclick (cont_2)"
   ]
  },
  {
   "cell_type": "code",
   "execution_count": 7,
   "metadata": {},
   "outputs": [],
   "source": [
    "def calc_t_criterion(x_1, x_2, t_importance = 1.96):\n",
    "    xm_1, xm_2 = x_1.mean(), x_2.mean()\n",
    "    \n",
    "    s_1, s_2 = x_1.std (), x_2.std ()\n",
    "    n_1, n_2 = x_1.size, x_2.size\n",
    "    \n",
    "    t_value = (xm_1 - xm_2) / np.sqrt ((s_1**2) / n_1 + (s_2**2) / n_2)\n",
    "    return 1 if t_value > t_importance else 0"
   ]
  },
  {
   "cell_type": "code",
   "execution_count": 8,
   "metadata": {},
   "outputs": [],
   "source": [
    "def clac_stats (ctr_1, ctr_2, num_of_experiments=1000000, sample_size=100, alpha=0.95):\n",
    "    M = 0\n",
    "    for i in xrange (num_of_experiments):\n",
    "        V_1 = np.random.choice (ctr_1, size=sample_size)\n",
    "        V_2 = np.random.choice (ctr_2, size=sample_size)\n",
    "        M += calc_t_criterion (V_1, V_2)\n",
    "        if (i % 1000. == 0):\n",
    "            sys.stdout.write (\"\\r{}% Done\".format (100. * i / num_of_experiments))\n",
    "    win = float (M)/num_of_experiments\n",
    "    return win"
   ]
  },
  {
   "cell_type": "code",
   "execution_count": 9,
   "metadata": {},
   "outputs": [
    {
     "name": "stdout",
     "output_type": "stream",
     "text": [
      "99.9% Done"
     ]
    }
   ],
   "source": [
    "res_ctr = clac_stats (ctr_1, ctr_2)"
   ]
  },
  {
   "cell_type": "code",
   "execution_count": 10,
   "metadata": {},
   "outputs": [
    {
     "name": "stdout",
     "output_type": "stream",
     "text": [
      "ASL for CTR is:  1.0\n"
     ]
    }
   ],
   "source": [
    "print \"ASL for CTR is: \",res_ctr"
   ]
  },
  {
   "cell_type": "code",
   "execution_count": null,
   "metadata": {},
   "outputs": [
    {
     "name": "stdout",
     "output_type": "stream",
     "text": [
      "51.2% Done"
     ]
    }
   ],
   "source": [
    "res_f_cl = clac_stats (f_cl_1, f_cl_2)"
   ]
  },
  {
   "cell_type": "code",
   "execution_count": null,
   "metadata": {},
   "outputs": [],
   "source": [
    "print \"ASL for \\\"click to first result\\\"\",res_f_cl"
   ]
  }
 ],
 "metadata": {
  "kernelspec": {
   "display_name": "Python 2",
   "language": "python",
   "name": "python2"
  },
  "language_info": {
   "codemirror_mode": {
    "name": "ipython",
    "version": 2
   },
   "file_extension": ".py",
   "mimetype": "text/x-python",
   "name": "python",
   "nbconvert_exporter": "python",
   "pygments_lexer": "ipython2",
   "version": "2.7.14"
  }
 },
 "nbformat": 4,
 "nbformat_minor": 2
}
